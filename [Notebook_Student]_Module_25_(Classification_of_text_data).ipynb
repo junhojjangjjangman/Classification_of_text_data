{
  "cells": [
    {
      "cell_type": "markdown",
      "metadata": {
        "id": "view-in-github",
        "colab_type": "text"
      },
      "source": [
        "<a href=\"https://colab.research.google.com/github/junhojjangjjangman/Classification_of_text_data/blob/main/%5BNotebook_Student%5D_Module_25_(Classification_of_text_data).ipynb\" target=\"_parent\"><img src=\"https://colab.research.google.com/assets/colab-badge.svg\" alt=\"Open In Colab\"/></a>"
      ]
    },
    {
      "cell_type": "markdown",
      "metadata": {
        "id": "y1p2kFUxh1KH"
      },
      "source": [
        "# 텍스트 데이터 분류\n",
        "\n",
        "자연어 처리의 일반적인 응용 프로그램 중 하나는 텍스트 데이터를 분류하는 것입니다. 분류는 다양한 형태로 수행할 수 있습니다: 트윗이 특정 주제와 관련이 있는지 여부를 분류할 수 있으며, 특정 리뷰가 긍정적 또는 부정적으로 인지도 분류할 수 있습니다.\n",
        "\n",
        "오늘은 NLP를 사용하여 NLP 데이터를 분류하는 기술을 실습하겠습니다! \n",
        "먼저, 데이터를 수집, 분석 및 처리할 것입니다. 단어 가방(Bag of words)과 tf-idf 모형을 사용할 것입니다.(데이터 획득 단계에서 수행 한 활동을 기업하십니까?) 이러한 과정은 텍스트를 숫자로 변환합니다.\n",
        "그 다음 우리가 만든 단어 벡터를 사용하여 기계 학습 알고리즘을 사용하여 데이터를 훈련시키고, 분류 작업을 수행하는 모델을 만듭니다.\n",
        "\n",
        "시작해 봅시다!\n",
        "\n",
        "첫 번째 작업에서는 트윗 데이터 모음을 사용하여 트윗이 자연 재해를 언급하는지 아니면 일반 트윗을 참조하는지 예측합니다.\n",
        "\n",
        "먼저 필요한 라이브러리를 가져옵시다!\n",
        "\n",
        "## 라이브러리 가져오기"
      ]
    },
    {
      "cell_type": "code",
      "source": [
        "from google.colab import drive\n",
        "drive.mount('/content/drive')"
      ],
      "metadata": {
        "colab": {
          "base_uri": "https://localhost:8080/"
        },
        "id": "ang0kviKiQMc",
        "outputId": "6a2b7754-89c2-4efe-e70c-bea554121c43"
      },
      "execution_count": null,
      "outputs": [
        {
          "output_type": "stream",
          "name": "stdout",
          "text": [
            "Drive already mounted at /content/drive; to attempt to forcibly remount, call drive.mount(\"/content/drive\", force_remount=True).\n"
          ]
        }
      ]
    },
    {
      "cell_type": "code",
      "execution_count": null,
      "metadata": {
        "id": "kIyPsc23h1KK"
      },
      "outputs": [],
      "source": [
        "import pandas as pd\n",
        "import numpy as np\n",
        "import nltk\n",
        "import re"
      ]
    },
    {
      "cell_type": "markdown",
      "metadata": {
        "id": "_pA8DSACh1KL"
      },
      "source": [
        "## csv 파일 열기\n",
        "트윗 데이터 파일을 가지고 있습니까? 데이터가 없는 경우 모듈 24의 노트북을 참조하여 데이터 세트를 다운로드하는 방법을 확인하십시오."
      ]
    },
    {
      "cell_type": "code",
      "execution_count": null,
      "metadata": {
        "id": "dG6cWvPBh1KL"
      },
      "outputs": [],
      "source": [
        "df_raw = pd.read_csv('/content/drive/MyDrive/Colab Notebooks/DataSet/module25/[Dataset]_Module25_disasters_social_media.csv',encoding='ISO-8859-1')"
      ]
    },
    {
      "cell_type": "markdown",
      "metadata": {
        "id": "niXbxQhuh1KM"
      },
      "source": [
        "### 분류를 위한 데이터 분석\n",
        "데이터 작업을 시작하기 전에 먼저 데이터의 일부 특성을 살펴보겠습니다. 모듈 24에서 데이터 분석을 통해 데이터 구조를 파악해 보았습니다."
      ]
    },
    {
      "cell_type": "code",
      "execution_count": null,
      "metadata": {
        "colab": {
          "base_uri": "https://localhost:8080/",
          "height": 600
        },
        "id": "GoincpnAh1KM",
        "outputId": "91369f8e-2444-4488-8e4a-20db39bd76b0"
      },
      "outputs": [
        {
          "output_type": "execute_result",
          "data": {
            "text/plain": [
              "   Unnamed: 0   _unit_id  _golden _unit_state  _trusted_judgments  \\\n",
              "0           0  778243823     True      golden                 156   \n",
              "1           1  778243824     True      golden                 152   \n",
              "2           2  778243825     True      golden                 137   \n",
              "3           3  778243826     True      golden                 136   \n",
              "4           4  778243827     True      golden                 138   \n",
              "\n",
              "  _last_judgment_at choose_one  choose_one:confidence choose_one_gold keyword  \\\n",
              "0               NaN   Relevant                 1.0000        Relevant     NaN   \n",
              "1               NaN   Relevant                 1.0000        Relevant     NaN   \n",
              "2               NaN   Relevant                 1.0000        Relevant     NaN   \n",
              "3               NaN   Relevant                 0.9603        Relevant     NaN   \n",
              "4               NaN   Relevant                 1.0000        Relevant     NaN   \n",
              "\n",
              "  location                                               text  tweetid  userid  \n",
              "0      NaN                 Just happened a terrible car crash      1.0     NaN  \n",
              "1      NaN  Our Deeds are the Reason of this #earthquake M...     13.0     NaN  \n",
              "2      NaN  Heard about #earthquake is different cities, s...     14.0     NaN  \n",
              "3      NaN  there is a forest fire at spot pond, geese are...     15.0     NaN  \n",
              "4      NaN             Forest fire near La Ronge Sask. Canada     16.0     NaN  "
            ],
            "text/html": [
              "\n",
              "  <div id=\"df-f6b147b3-9a67-4495-a895-02ee5a17ea97\">\n",
              "    <div class=\"colab-df-container\">\n",
              "      <div>\n",
              "<style scoped>\n",
              "    .dataframe tbody tr th:only-of-type {\n",
              "        vertical-align: middle;\n",
              "    }\n",
              "\n",
              "    .dataframe tbody tr th {\n",
              "        vertical-align: top;\n",
              "    }\n",
              "\n",
              "    .dataframe thead th {\n",
              "        text-align: right;\n",
              "    }\n",
              "</style>\n",
              "<table border=\"1\" class=\"dataframe\">\n",
              "  <thead>\n",
              "    <tr style=\"text-align: right;\">\n",
              "      <th></th>\n",
              "      <th>Unnamed: 0</th>\n",
              "      <th>_unit_id</th>\n",
              "      <th>_golden</th>\n",
              "      <th>_unit_state</th>\n",
              "      <th>_trusted_judgments</th>\n",
              "      <th>_last_judgment_at</th>\n",
              "      <th>choose_one</th>\n",
              "      <th>choose_one:confidence</th>\n",
              "      <th>choose_one_gold</th>\n",
              "      <th>keyword</th>\n",
              "      <th>location</th>\n",
              "      <th>text</th>\n",
              "      <th>tweetid</th>\n",
              "      <th>userid</th>\n",
              "    </tr>\n",
              "  </thead>\n",
              "  <tbody>\n",
              "    <tr>\n",
              "      <th>0</th>\n",
              "      <td>0</td>\n",
              "      <td>778243823</td>\n",
              "      <td>True</td>\n",
              "      <td>golden</td>\n",
              "      <td>156</td>\n",
              "      <td>NaN</td>\n",
              "      <td>Relevant</td>\n",
              "      <td>1.0000</td>\n",
              "      <td>Relevant</td>\n",
              "      <td>NaN</td>\n",
              "      <td>NaN</td>\n",
              "      <td>Just happened a terrible car crash</td>\n",
              "      <td>1.0</td>\n",
              "      <td>NaN</td>\n",
              "    </tr>\n",
              "    <tr>\n",
              "      <th>1</th>\n",
              "      <td>1</td>\n",
              "      <td>778243824</td>\n",
              "      <td>True</td>\n",
              "      <td>golden</td>\n",
              "      <td>152</td>\n",
              "      <td>NaN</td>\n",
              "      <td>Relevant</td>\n",
              "      <td>1.0000</td>\n",
              "      <td>Relevant</td>\n",
              "      <td>NaN</td>\n",
              "      <td>NaN</td>\n",
              "      <td>Our Deeds are the Reason of this #earthquake M...</td>\n",
              "      <td>13.0</td>\n",
              "      <td>NaN</td>\n",
              "    </tr>\n",
              "    <tr>\n",
              "      <th>2</th>\n",
              "      <td>2</td>\n",
              "      <td>778243825</td>\n",
              "      <td>True</td>\n",
              "      <td>golden</td>\n",
              "      <td>137</td>\n",
              "      <td>NaN</td>\n",
              "      <td>Relevant</td>\n",
              "      <td>1.0000</td>\n",
              "      <td>Relevant</td>\n",
              "      <td>NaN</td>\n",
              "      <td>NaN</td>\n",
              "      <td>Heard about #earthquake is different cities, s...</td>\n",
              "      <td>14.0</td>\n",
              "      <td>NaN</td>\n",
              "    </tr>\n",
              "    <tr>\n",
              "      <th>3</th>\n",
              "      <td>3</td>\n",
              "      <td>778243826</td>\n",
              "      <td>True</td>\n",
              "      <td>golden</td>\n",
              "      <td>136</td>\n",
              "      <td>NaN</td>\n",
              "      <td>Relevant</td>\n",
              "      <td>0.9603</td>\n",
              "      <td>Relevant</td>\n",
              "      <td>NaN</td>\n",
              "      <td>NaN</td>\n",
              "      <td>there is a forest fire at spot pond, geese are...</td>\n",
              "      <td>15.0</td>\n",
              "      <td>NaN</td>\n",
              "    </tr>\n",
              "    <tr>\n",
              "      <th>4</th>\n",
              "      <td>4</td>\n",
              "      <td>778243827</td>\n",
              "      <td>True</td>\n",
              "      <td>golden</td>\n",
              "      <td>138</td>\n",
              "      <td>NaN</td>\n",
              "      <td>Relevant</td>\n",
              "      <td>1.0000</td>\n",
              "      <td>Relevant</td>\n",
              "      <td>NaN</td>\n",
              "      <td>NaN</td>\n",
              "      <td>Forest fire near La Ronge Sask. Canada</td>\n",
              "      <td>16.0</td>\n",
              "      <td>NaN</td>\n",
              "    </tr>\n",
              "  </tbody>\n",
              "</table>\n",
              "</div>\n",
              "      <button class=\"colab-df-convert\" onclick=\"convertToInteractive('df-f6b147b3-9a67-4495-a895-02ee5a17ea97')\"\n",
              "              title=\"Convert this dataframe to an interactive table.\"\n",
              "              style=\"display:none;\">\n",
              "        \n",
              "  <svg xmlns=\"http://www.w3.org/2000/svg\" height=\"24px\"viewBox=\"0 0 24 24\"\n",
              "       width=\"24px\">\n",
              "    <path d=\"M0 0h24v24H0V0z\" fill=\"none\"/>\n",
              "    <path d=\"M18.56 5.44l.94 2.06.94-2.06 2.06-.94-2.06-.94-.94-2.06-.94 2.06-2.06.94zm-11 1L8.5 8.5l.94-2.06 2.06-.94-2.06-.94L8.5 2.5l-.94 2.06-2.06.94zm10 10l.94 2.06.94-2.06 2.06-.94-2.06-.94-.94-2.06-.94 2.06-2.06.94z\"/><path d=\"M17.41 7.96l-1.37-1.37c-.4-.4-.92-.59-1.43-.59-.52 0-1.04.2-1.43.59L10.3 9.45l-7.72 7.72c-.78.78-.78 2.05 0 2.83L4 21.41c.39.39.9.59 1.41.59.51 0 1.02-.2 1.41-.59l7.78-7.78 2.81-2.81c.8-.78.8-2.07 0-2.86zM5.41 20L4 18.59l7.72-7.72 1.47 1.35L5.41 20z\"/>\n",
              "  </svg>\n",
              "      </button>\n",
              "      \n",
              "  <style>\n",
              "    .colab-df-container {\n",
              "      display:flex;\n",
              "      flex-wrap:wrap;\n",
              "      gap: 12px;\n",
              "    }\n",
              "\n",
              "    .colab-df-convert {\n",
              "      background-color: #E8F0FE;\n",
              "      border: none;\n",
              "      border-radius: 50%;\n",
              "      cursor: pointer;\n",
              "      display: none;\n",
              "      fill: #1967D2;\n",
              "      height: 32px;\n",
              "      padding: 0 0 0 0;\n",
              "      width: 32px;\n",
              "    }\n",
              "\n",
              "    .colab-df-convert:hover {\n",
              "      background-color: #E2EBFA;\n",
              "      box-shadow: 0px 1px 2px rgba(60, 64, 67, 0.3), 0px 1px 3px 1px rgba(60, 64, 67, 0.15);\n",
              "      fill: #174EA6;\n",
              "    }\n",
              "\n",
              "    [theme=dark] .colab-df-convert {\n",
              "      background-color: #3B4455;\n",
              "      fill: #D2E3FC;\n",
              "    }\n",
              "\n",
              "    [theme=dark] .colab-df-convert:hover {\n",
              "      background-color: #434B5C;\n",
              "      box-shadow: 0px 1px 3px 1px rgba(0, 0, 0, 0.15);\n",
              "      filter: drop-shadow(0px 1px 2px rgba(0, 0, 0, 0.3));\n",
              "      fill: #FFFFFF;\n",
              "    }\n",
              "  </style>\n",
              "\n",
              "      <script>\n",
              "        const buttonEl =\n",
              "          document.querySelector('#df-f6b147b3-9a67-4495-a895-02ee5a17ea97 button.colab-df-convert');\n",
              "        buttonEl.style.display =\n",
              "          google.colab.kernel.accessAllowed ? 'block' : 'none';\n",
              "\n",
              "        async function convertToInteractive(key) {\n",
              "          const element = document.querySelector('#df-f6b147b3-9a67-4495-a895-02ee5a17ea97');\n",
              "          const dataTable =\n",
              "            await google.colab.kernel.invokeFunction('convertToInteractive',\n",
              "                                                     [key], {});\n",
              "          if (!dataTable) return;\n",
              "\n",
              "          const docLinkHtml = 'Like what you see? Visit the ' +\n",
              "            '<a target=\"_blank\" href=https://colab.research.google.com/notebooks/data_table.ipynb>data table notebook</a>'\n",
              "            + ' to learn more about interactive tables.';\n",
              "          element.innerHTML = '';\n",
              "          dataTable['output_type'] = 'display_data';\n",
              "          await google.colab.output.renderOutput(dataTable, element);\n",
              "          const docLink = document.createElement('div');\n",
              "          docLink.innerHTML = docLinkHtml;\n",
              "          element.appendChild(docLink);\n",
              "        }\n",
              "      </script>\n",
              "    </div>\n",
              "  </div>\n",
              "  "
            ]
          },
          "metadata": {},
          "execution_count": 4
        }
      ],
      "source": [
        "df_raw.head()"
      ]
    },
    {
      "cell_type": "markdown",
      "metadata": {
        "id": "27Nr6HOVh1KN"
      },
      "source": [
        "head() 함수를 사용하면 데이터 세트에서 처음 몇 행을 볼 수 있습니다. 데이터 전체의 행이 확인할 수 있습니까?\n",
        "\n",
        "### 실습: 테이터 프레임의 길이를 출력합니다."
      ]
    },
    {
      "cell_type": "code",
      "execution_count": null,
      "metadata": {
        "colab": {
          "base_uri": "https://localhost:8080/"
        },
        "id": "niBXvi4Oh1KN",
        "outputId": "9776b1be-a40e-4b05-889b-4983b4e7863e"
      },
      "outputs": [
        {
          "output_type": "execute_result",
          "data": {
            "text/plain": [
              "10876"
            ]
          },
          "metadata": {},
          "execution_count": 5
        }
      ],
      "source": [
        "#your code here\n",
        "len(df_raw)"
      ]
    },
    {
      "cell_type": "markdown",
      "metadata": {
        "id": "iOXJVBLbh1KN"
      },
      "source": [
        "위에서 볼 수 있는 표제는 무엇입니까? 어느 표제가 중요하다고 생각합니까?\n",
        "\n",
        "### '대상(target)'이란 무엇인가?\n",
        "\n",
        "예측하고자 하는 영역을 '대상'이라고 합니다. 예제의 경우 트윗이 자연 재해와 관련이 있는지 또는 관련이 없는지 여부가 대상입니다. 이러한 값은 `['choose_one']`열에 반영됩니다(위에 항목 참조!). "
      ]
    },
    {
      "cell_type": "markdown",
      "metadata": {
        "id": "JWdlLZ7Bh1KO"
      },
      "source": [
        "### '레이블(labels)'을 기억하십니까?\n",
        "이 데이터 세트에서 대상의 레이블은 인적 자원에 의해 수동으로 작성되었습니다. 향후 데이터 세트에 대한 작업을 수행할 때 수동으로 레이블을 작성하거나 지원자를 찾아야 할 수 있습니다.\n",
        "\n",
        "이 작업은 일반적으로 노력과 시간 면에서 비용이 많이 드는 작업입니다. 이 작업에 대한 적합한 직원을 찾을 수 있는 [온라인 플랫폼](https://www.mturk.com/) 도 있습니다!"
      ]
    },
    {
      "cell_type": "markdown",
      "metadata": {
        "id": "4GufVfYHh1KO"
      },
      "source": [
        "### 레이블 검사\n",
        "\n",
        "트윗들이 분류된 카테고리를 살펴봅시다. 이를 위해 해당 열 내에서 고유한 값의 수를 찾을 수 있습니다. 파이썬의 내장 함수 `set()`은 값 목록을 가져와서 총 고유 값을 출력합니다. 어떻게 작동하는지 봅시다! "
      ]
    },
    {
      "cell_type": "code",
      "execution_count": null,
      "metadata": {
        "colab": {
          "base_uri": "https://localhost:8080/"
        },
        "id": "JnHuUsY5h1KO",
        "outputId": "b3097793-f670-4562-9293-9da7040c7daa"
      },
      "outputs": [
        {
          "output_type": "execute_result",
          "data": {
            "text/plain": [
              "{'apple', 'orange', 'pears'}"
            ]
          },
          "metadata": {},
          "execution_count": 6
        }
      ],
      "source": [
        "set(['apple', 'orange', 'apple', 'orange', 'pears'])"
      ]
    },
    {
      "cell_type": "markdown",
      "metadata": {
        "id": "niuh2xg6h1KO"
      },
      "source": [
        "위의 코드를 이해할 수 있나요? 5개의 리스트에서 3개의 고유한 값이 있으며, 고유한 값만 출력됩니다.\n",
        "\n",
        "### 실습: 6개의 리스트에 2개의 고유한 값이 있도록 함수를 변경하십시오!"
      ]
    },
    {
      "cell_type": "code",
      "execution_count": null,
      "metadata": {
        "colab": {
          "base_uri": "https://localhost:8080/"
        },
        "id": "fAqi-B1Ch1KP",
        "outputId": "b7ea595e-10b3-4209-b1a7-c7ea91da13e1"
      },
      "outputs": [
        {
          "output_type": "execute_result",
          "data": {
            "text/plain": [
              "{'apple', 'orange'}"
            ]
          },
          "metadata": {},
          "execution_count": 7
        }
      ],
      "source": [
        "set(['apple', 'orange', 'apple', 'orange', 'orange','apple'])"
      ]
    },
    {
      "cell_type": "markdown",
      "metadata": {
        "id": "BNztFJeJh1KP"
      },
      "source": [
        "아래의 코드 조각은 자연 재해에 대한 특정 트윗의 관련성 척도인 'choose_one' 열의 값을 나열합니다."
      ]
    },
    {
      "cell_type": "code",
      "execution_count": null,
      "metadata": {
        "colab": {
          "base_uri": "https://localhost:8080/"
        },
        "id": "rzLn8xKuh1KP",
        "outputId": "a9dd65f0-0064-4da6-d0cb-e8b9e47918c7"
      },
      "outputs": [
        {
          "output_type": "execute_result",
          "data": {
            "text/plain": [
              "array(['Relevant', 'Relevant', 'Relevant', ..., 'Relevant', 'Relevant',\n",
              "       'Relevant'], dtype=object)"
            ]
          },
          "metadata": {},
          "execution_count": 8
        }
      ],
      "source": [
        "df_raw.choose_one.values"
      ]
    },
    {
      "cell_type": "markdown",
      "metadata": {
        "id": "PDeXWCAuh1KP"
      },
      "source": [
        "set() 함수를 사용하지 않고, 이 열에 얼마나 많은 고유한 값이 있는지 추측할 수 있습니까? \n",
        "\n",
        "### 실습: set() 함수를 사용하여 'choose_one' 열의 고유한 값을 찾아보세요."
      ]
    },
    {
      "cell_type": "code",
      "execution_count": null,
      "metadata": {
        "colab": {
          "base_uri": "https://localhost:8080/"
        },
        "id": "BZY_fCnjh1KP",
        "outputId": "671632af-860a-4679-d27b-6e4b594dd732"
      },
      "outputs": [
        {
          "output_type": "execute_result",
          "data": {
            "text/plain": [
              "{\"Can't Decide\", 'Not Relevant', 'Relevant'}"
            ]
          },
          "metadata": {},
          "execution_count": 9
        }
      ],
      "source": [
        "#your code here\n",
        "set_choose_one = set(df_raw.choose_one.values)\n",
        "set_choose_one"
      ]
    },
    {
      "cell_type": "markdown",
      "metadata": {
        "id": "uI8erD9hh1KQ"
      },
      "source": [
        "일리가 있습니까? 트윗은 자연 재해와는 관련이 있거나 자연 재해와 관련이 없을 수 있으며, 데이터를 표시한 사람들이 트윗이 자연 재해와 관련이 있는지 여부를 결정할 수 없는 경우도 있습니다. "
      ]
    },
    {
      "cell_type": "markdown",
      "metadata": {
        "id": "IMJNPwMmh1KQ"
      },
      "source": [
        "현재로서는 이진 방식(관련성 있음 vs 관련성 없음)으로 예측하는 것만 관심을 갖고 있으므로, '결정할 수 없는('can't decide') 클래스는 폐기합니다. 판다 데이터 프레임에서 [기준을 사용하여 데이터 하의 설정](http://chris.friedline.net/2015-12-15-rutgers/lessons/python2/02-index-slice-subset.html) 하는 방법을 기억하십니까?\n",
        "\n",
        "### 실습: 데이터 프레임을 부분 집합으로 나누고 choose_one 열에 'Can't Decision'이 없는 행만 사용하십시오."
      ]
    },
    {
      "cell_type": "code",
      "execution_count": null,
      "metadata": {
        "id": "XlkQjZu_h1KQ"
      },
      "outputs": [],
      "source": [
        "#your code here\n",
        "df = df_raw[df_raw.choose_one != \"Can't Decide\"]"
      ]
    },
    {
      "cell_type": "markdown",
      "metadata": {
        "id": "wwVJhI7qh1KQ"
      },
      "source": [
        "데이터 프레임을 출력하여 수행한 작업을 확인합니다."
      ]
    },
    {
      "cell_type": "code",
      "execution_count": null,
      "metadata": {
        "colab": {
          "base_uri": "https://localhost:8080/",
          "height": 1000
        },
        "id": "q14q2keBh1KQ",
        "outputId": "b3f7a299-9b56-4e92-8d08-3a3bae9fafb9"
      },
      "outputs": [
        {
          "output_type": "execute_result",
          "data": {
            "text/plain": [
              "       Unnamed: 0   _unit_id  _golden _unit_state  _trusted_judgments  \\\n",
              "0               0  778243823     True      golden                 156   \n",
              "1               1  778243824     True      golden                 152   \n",
              "2               2  778243825     True      golden                 137   \n",
              "3               3  778243826     True      golden                 136   \n",
              "4               4  778243827     True      golden                 138   \n",
              "...           ...        ...      ...         ...                 ...   \n",
              "10871       10871  778261105     True      golden                 100   \n",
              "10872       10872  778261106     True      golden                  90   \n",
              "10873       10873  778261107     True      golden                 102   \n",
              "10874       10874  778261108     True      golden                  96   \n",
              "10875       10875  778261109     True      golden                  97   \n",
              "\n",
              "      _last_judgment_at choose_one  choose_one:confidence choose_one_gold  \\\n",
              "0                   NaN   Relevant                 1.0000        Relevant   \n",
              "1                   NaN   Relevant                 1.0000        Relevant   \n",
              "2                   NaN   Relevant                 1.0000        Relevant   \n",
              "3                   NaN   Relevant                 0.9603        Relevant   \n",
              "4                   NaN   Relevant                 1.0000        Relevant   \n",
              "...                 ...        ...                    ...             ...   \n",
              "10871               NaN   Relevant                 0.7629        Relevant   \n",
              "10872               NaN   Relevant                 0.9203        Relevant   \n",
              "10873               NaN   Relevant                 1.0000        Relevant   \n",
              "10874               NaN   Relevant                 0.8419        Relevant   \n",
              "10875               NaN   Relevant                 0.8812        Relevant   \n",
              "\n",
              "      keyword location                                               text  \\\n",
              "0         NaN      NaN                 Just happened a terrible car crash   \n",
              "1         NaN      NaN  Our Deeds are the Reason of this #earthquake M...   \n",
              "2         NaN      NaN  Heard about #earthquake is different cities, s...   \n",
              "3         NaN      NaN  there is a forest fire at spot pond, geese are...   \n",
              "4         NaN      NaN             Forest fire near La Ronge Sask. Canada   \n",
              "...       ...      ...                                                ...   \n",
              "10871     NaN      NaN  M1.94 [01:04 UTC]?5km S of Volcano Hawaii. htt...   \n",
              "10872     NaN      NaN  Police investigating after an e-bike collided ...   \n",
              "10873     NaN      NaN  The Latest: More Homes Razed by Northern Calif...   \n",
              "10874     NaN      NaN  MEG issues Hazardous Weather Outlook (HWO) htt...   \n",
              "10875     NaN      NaN  #CityofCalgary has activated its Municipal Eme...   \n",
              "\n",
              "         tweetid  userid  \n",
              "0            1.0     NaN  \n",
              "1           13.0     NaN  \n",
              "2           14.0     NaN  \n",
              "3           15.0     NaN  \n",
              "4           16.0     NaN  \n",
              "...          ...     ...  \n",
              "10871  5675678.0     NaN  \n",
              "10872     4234.0     NaN  \n",
              "10873     3242.0     NaN  \n",
              "10874      457.0     NaN  \n",
              "10875     6585.0     NaN  \n",
              "\n",
              "[10860 rows x 14 columns]"
            ],
            "text/html": [
              "\n",
              "  <div id=\"df-db47f0da-4374-42a2-9895-dd7399626a1e\">\n",
              "    <div class=\"colab-df-container\">\n",
              "      <div>\n",
              "<style scoped>\n",
              "    .dataframe tbody tr th:only-of-type {\n",
              "        vertical-align: middle;\n",
              "    }\n",
              "\n",
              "    .dataframe tbody tr th {\n",
              "        vertical-align: top;\n",
              "    }\n",
              "\n",
              "    .dataframe thead th {\n",
              "        text-align: right;\n",
              "    }\n",
              "</style>\n",
              "<table border=\"1\" class=\"dataframe\">\n",
              "  <thead>\n",
              "    <tr style=\"text-align: right;\">\n",
              "      <th></th>\n",
              "      <th>Unnamed: 0</th>\n",
              "      <th>_unit_id</th>\n",
              "      <th>_golden</th>\n",
              "      <th>_unit_state</th>\n",
              "      <th>_trusted_judgments</th>\n",
              "      <th>_last_judgment_at</th>\n",
              "      <th>choose_one</th>\n",
              "      <th>choose_one:confidence</th>\n",
              "      <th>choose_one_gold</th>\n",
              "      <th>keyword</th>\n",
              "      <th>location</th>\n",
              "      <th>text</th>\n",
              "      <th>tweetid</th>\n",
              "      <th>userid</th>\n",
              "    </tr>\n",
              "  </thead>\n",
              "  <tbody>\n",
              "    <tr>\n",
              "      <th>0</th>\n",
              "      <td>0</td>\n",
              "      <td>778243823</td>\n",
              "      <td>True</td>\n",
              "      <td>golden</td>\n",
              "      <td>156</td>\n",
              "      <td>NaN</td>\n",
              "      <td>Relevant</td>\n",
              "      <td>1.0000</td>\n",
              "      <td>Relevant</td>\n",
              "      <td>NaN</td>\n",
              "      <td>NaN</td>\n",
              "      <td>Just happened a terrible car crash</td>\n",
              "      <td>1.0</td>\n",
              "      <td>NaN</td>\n",
              "    </tr>\n",
              "    <tr>\n",
              "      <th>1</th>\n",
              "      <td>1</td>\n",
              "      <td>778243824</td>\n",
              "      <td>True</td>\n",
              "      <td>golden</td>\n",
              "      <td>152</td>\n",
              "      <td>NaN</td>\n",
              "      <td>Relevant</td>\n",
              "      <td>1.0000</td>\n",
              "      <td>Relevant</td>\n",
              "      <td>NaN</td>\n",
              "      <td>NaN</td>\n",
              "      <td>Our Deeds are the Reason of this #earthquake M...</td>\n",
              "      <td>13.0</td>\n",
              "      <td>NaN</td>\n",
              "    </tr>\n",
              "    <tr>\n",
              "      <th>2</th>\n",
              "      <td>2</td>\n",
              "      <td>778243825</td>\n",
              "      <td>True</td>\n",
              "      <td>golden</td>\n",
              "      <td>137</td>\n",
              "      <td>NaN</td>\n",
              "      <td>Relevant</td>\n",
              "      <td>1.0000</td>\n",
              "      <td>Relevant</td>\n",
              "      <td>NaN</td>\n",
              "      <td>NaN</td>\n",
              "      <td>Heard about #earthquake is different cities, s...</td>\n",
              "      <td>14.0</td>\n",
              "      <td>NaN</td>\n",
              "    </tr>\n",
              "    <tr>\n",
              "      <th>3</th>\n",
              "      <td>3</td>\n",
              "      <td>778243826</td>\n",
              "      <td>True</td>\n",
              "      <td>golden</td>\n",
              "      <td>136</td>\n",
              "      <td>NaN</td>\n",
              "      <td>Relevant</td>\n",
              "      <td>0.9603</td>\n",
              "      <td>Relevant</td>\n",
              "      <td>NaN</td>\n",
              "      <td>NaN</td>\n",
              "      <td>there is a forest fire at spot pond, geese are...</td>\n",
              "      <td>15.0</td>\n",
              "      <td>NaN</td>\n",
              "    </tr>\n",
              "    <tr>\n",
              "      <th>4</th>\n",
              "      <td>4</td>\n",
              "      <td>778243827</td>\n",
              "      <td>True</td>\n",
              "      <td>golden</td>\n",
              "      <td>138</td>\n",
              "      <td>NaN</td>\n",
              "      <td>Relevant</td>\n",
              "      <td>1.0000</td>\n",
              "      <td>Relevant</td>\n",
              "      <td>NaN</td>\n",
              "      <td>NaN</td>\n",
              "      <td>Forest fire near La Ronge Sask. Canada</td>\n",
              "      <td>16.0</td>\n",
              "      <td>NaN</td>\n",
              "    </tr>\n",
              "    <tr>\n",
              "      <th>...</th>\n",
              "      <td>...</td>\n",
              "      <td>...</td>\n",
              "      <td>...</td>\n",
              "      <td>...</td>\n",
              "      <td>...</td>\n",
              "      <td>...</td>\n",
              "      <td>...</td>\n",
              "      <td>...</td>\n",
              "      <td>...</td>\n",
              "      <td>...</td>\n",
              "      <td>...</td>\n",
              "      <td>...</td>\n",
              "      <td>...</td>\n",
              "      <td>...</td>\n",
              "    </tr>\n",
              "    <tr>\n",
              "      <th>10871</th>\n",
              "      <td>10871</td>\n",
              "      <td>778261105</td>\n",
              "      <td>True</td>\n",
              "      <td>golden</td>\n",
              "      <td>100</td>\n",
              "      <td>NaN</td>\n",
              "      <td>Relevant</td>\n",
              "      <td>0.7629</td>\n",
              "      <td>Relevant</td>\n",
              "      <td>NaN</td>\n",
              "      <td>NaN</td>\n",
              "      <td>M1.94 [01:04 UTC]?5km S of Volcano Hawaii. htt...</td>\n",
              "      <td>5675678.0</td>\n",
              "      <td>NaN</td>\n",
              "    </tr>\n",
              "    <tr>\n",
              "      <th>10872</th>\n",
              "      <td>10872</td>\n",
              "      <td>778261106</td>\n",
              "      <td>True</td>\n",
              "      <td>golden</td>\n",
              "      <td>90</td>\n",
              "      <td>NaN</td>\n",
              "      <td>Relevant</td>\n",
              "      <td>0.9203</td>\n",
              "      <td>Relevant</td>\n",
              "      <td>NaN</td>\n",
              "      <td>NaN</td>\n",
              "      <td>Police investigating after an e-bike collided ...</td>\n",
              "      <td>4234.0</td>\n",
              "      <td>NaN</td>\n",
              "    </tr>\n",
              "    <tr>\n",
              "      <th>10873</th>\n",
              "      <td>10873</td>\n",
              "      <td>778261107</td>\n",
              "      <td>True</td>\n",
              "      <td>golden</td>\n",
              "      <td>102</td>\n",
              "      <td>NaN</td>\n",
              "      <td>Relevant</td>\n",
              "      <td>1.0000</td>\n",
              "      <td>Relevant</td>\n",
              "      <td>NaN</td>\n",
              "      <td>NaN</td>\n",
              "      <td>The Latest: More Homes Razed by Northern Calif...</td>\n",
              "      <td>3242.0</td>\n",
              "      <td>NaN</td>\n",
              "    </tr>\n",
              "    <tr>\n",
              "      <th>10874</th>\n",
              "      <td>10874</td>\n",
              "      <td>778261108</td>\n",
              "      <td>True</td>\n",
              "      <td>golden</td>\n",
              "      <td>96</td>\n",
              "      <td>NaN</td>\n",
              "      <td>Relevant</td>\n",
              "      <td>0.8419</td>\n",
              "      <td>Relevant</td>\n",
              "      <td>NaN</td>\n",
              "      <td>NaN</td>\n",
              "      <td>MEG issues Hazardous Weather Outlook (HWO) htt...</td>\n",
              "      <td>457.0</td>\n",
              "      <td>NaN</td>\n",
              "    </tr>\n",
              "    <tr>\n",
              "      <th>10875</th>\n",
              "      <td>10875</td>\n",
              "      <td>778261109</td>\n",
              "      <td>True</td>\n",
              "      <td>golden</td>\n",
              "      <td>97</td>\n",
              "      <td>NaN</td>\n",
              "      <td>Relevant</td>\n",
              "      <td>0.8812</td>\n",
              "      <td>Relevant</td>\n",
              "      <td>NaN</td>\n",
              "      <td>NaN</td>\n",
              "      <td>#CityofCalgary has activated its Municipal Eme...</td>\n",
              "      <td>6585.0</td>\n",
              "      <td>NaN</td>\n",
              "    </tr>\n",
              "  </tbody>\n",
              "</table>\n",
              "<p>10860 rows × 14 columns</p>\n",
              "</div>\n",
              "      <button class=\"colab-df-convert\" onclick=\"convertToInteractive('df-db47f0da-4374-42a2-9895-dd7399626a1e')\"\n",
              "              title=\"Convert this dataframe to an interactive table.\"\n",
              "              style=\"display:none;\">\n",
              "        \n",
              "  <svg xmlns=\"http://www.w3.org/2000/svg\" height=\"24px\"viewBox=\"0 0 24 24\"\n",
              "       width=\"24px\">\n",
              "    <path d=\"M0 0h24v24H0V0z\" fill=\"none\"/>\n",
              "    <path d=\"M18.56 5.44l.94 2.06.94-2.06 2.06-.94-2.06-.94-.94-2.06-.94 2.06-2.06.94zm-11 1L8.5 8.5l.94-2.06 2.06-.94-2.06-.94L8.5 2.5l-.94 2.06-2.06.94zm10 10l.94 2.06.94-2.06 2.06-.94-2.06-.94-.94-2.06-.94 2.06-2.06.94z\"/><path d=\"M17.41 7.96l-1.37-1.37c-.4-.4-.92-.59-1.43-.59-.52 0-1.04.2-1.43.59L10.3 9.45l-7.72 7.72c-.78.78-.78 2.05 0 2.83L4 21.41c.39.39.9.59 1.41.59.51 0 1.02-.2 1.41-.59l7.78-7.78 2.81-2.81c.8-.78.8-2.07 0-2.86zM5.41 20L4 18.59l7.72-7.72 1.47 1.35L5.41 20z\"/>\n",
              "  </svg>\n",
              "      </button>\n",
              "      \n",
              "  <style>\n",
              "    .colab-df-container {\n",
              "      display:flex;\n",
              "      flex-wrap:wrap;\n",
              "      gap: 12px;\n",
              "    }\n",
              "\n",
              "    .colab-df-convert {\n",
              "      background-color: #E8F0FE;\n",
              "      border: none;\n",
              "      border-radius: 50%;\n",
              "      cursor: pointer;\n",
              "      display: none;\n",
              "      fill: #1967D2;\n",
              "      height: 32px;\n",
              "      padding: 0 0 0 0;\n",
              "      width: 32px;\n",
              "    }\n",
              "\n",
              "    .colab-df-convert:hover {\n",
              "      background-color: #E2EBFA;\n",
              "      box-shadow: 0px 1px 2px rgba(60, 64, 67, 0.3), 0px 1px 3px 1px rgba(60, 64, 67, 0.15);\n",
              "      fill: #174EA6;\n",
              "    }\n",
              "\n",
              "    [theme=dark] .colab-df-convert {\n",
              "      background-color: #3B4455;\n",
              "      fill: #D2E3FC;\n",
              "    }\n",
              "\n",
              "    [theme=dark] .colab-df-convert:hover {\n",
              "      background-color: #434B5C;\n",
              "      box-shadow: 0px 1px 3px 1px rgba(0, 0, 0, 0.15);\n",
              "      filter: drop-shadow(0px 1px 2px rgba(0, 0, 0, 0.3));\n",
              "      fill: #FFFFFF;\n",
              "    }\n",
              "  </style>\n",
              "\n",
              "      <script>\n",
              "        const buttonEl =\n",
              "          document.querySelector('#df-db47f0da-4374-42a2-9895-dd7399626a1e button.colab-df-convert');\n",
              "        buttonEl.style.display =\n",
              "          google.colab.kernel.accessAllowed ? 'block' : 'none';\n",
              "\n",
              "        async function convertToInteractive(key) {\n",
              "          const element = document.querySelector('#df-db47f0da-4374-42a2-9895-dd7399626a1e');\n",
              "          const dataTable =\n",
              "            await google.colab.kernel.invokeFunction('convertToInteractive',\n",
              "                                                     [key], {});\n",
              "          if (!dataTable) return;\n",
              "\n",
              "          const docLinkHtml = 'Like what you see? Visit the ' +\n",
              "            '<a target=\"_blank\" href=https://colab.research.google.com/notebooks/data_table.ipynb>data table notebook</a>'\n",
              "            + ' to learn more about interactive tables.';\n",
              "          element.innerHTML = '';\n",
              "          dataTable['output_type'] = 'display_data';\n",
              "          await google.colab.output.renderOutput(dataTable, element);\n",
              "          const docLink = document.createElement('div');\n",
              "          docLink.innerHTML = docLinkHtml;\n",
              "          element.appendChild(docLink);\n",
              "        }\n",
              "      </script>\n",
              "    </div>\n",
              "  </div>\n",
              "  "
            ]
          },
          "metadata": {},
          "execution_count": 11
        }
      ],
      "source": [
        "#your code here\n",
        "df"
      ]
    },
    {
      "cell_type": "markdown",
      "metadata": {
        "id": "Wa8fmWTCh1KR"
      },
      "source": [
        "데이터 프레임의 크기를 확인하십시오. 감소하였나요? 아니면 그대로인가요?\n",
        "\n",
        "### 데이터 프레임의 크기 출력"
      ]
    },
    {
      "cell_type": "code",
      "execution_count": null,
      "metadata": {
        "colab": {
          "base_uri": "https://localhost:8080/"
        },
        "id": "HXH6M74rh1KR",
        "outputId": "9a8487e3-58db-4c62-85ea-56aa263e4a63"
      },
      "outputs": [
        {
          "output_type": "execute_result",
          "data": {
            "text/plain": [
              "10860"
            ]
          },
          "metadata": {},
          "execution_count": 12
        }
      ],
      "source": [
        "#your code here\n",
        "len(df)"
      ]
    },
    {
      "cell_type": "markdown",
      "metadata": {
        "id": "wc25Jkt5h1KR"
      },
      "source": [
        "이제 'text' 열과 'choose_one' 열에만 초점을 맞추겠습니다.\n",
        "\n",
        "### 실습: 'text'와 'choose_one' 열만 사용하도록 데이터 프레임을 부분 집합 취하기\n",
        "\n",
        "이 [문서](http://chris.friedline.net/2015-12-15-rutgers/lessons/python2/02-index-slice-subset.html)에서 레이블(열 제목)을 사용하여 데이터를 선택하는 방법을 참조하십시오!!"
      ]
    },
    {
      "cell_type": "code",
      "execution_count": null,
      "metadata": {
        "id": "GXMvDvL1h1KR"
      },
      "outputs": [],
      "source": [
        "#your code here\n",
        "df = df[['text', 'choose_one']]"
      ]
    },
    {
      "cell_type": "code",
      "execution_count": null,
      "metadata": {
        "colab": {
          "base_uri": "https://localhost:8080/",
          "height": 423
        },
        "id": "3k_ms3L2h1KR",
        "outputId": "6b8e0d01-411c-4398-dc12-45c653f6ae06"
      },
      "outputs": [
        {
          "output_type": "execute_result",
          "data": {
            "text/plain": [
              "                                                    text choose_one\n",
              "0                     Just happened a terrible car crash   Relevant\n",
              "1      Our Deeds are the Reason of this #earthquake M...   Relevant\n",
              "2      Heard about #earthquake is different cities, s...   Relevant\n",
              "3      there is a forest fire at spot pond, geese are...   Relevant\n",
              "4                 Forest fire near La Ronge Sask. Canada   Relevant\n",
              "...                                                  ...        ...\n",
              "10871  M1.94 [01:04 UTC]?5km S of Volcano Hawaii. htt...   Relevant\n",
              "10872  Police investigating after an e-bike collided ...   Relevant\n",
              "10873  The Latest: More Homes Razed by Northern Calif...   Relevant\n",
              "10874  MEG issues Hazardous Weather Outlook (HWO) htt...   Relevant\n",
              "10875  #CityofCalgary has activated its Municipal Eme...   Relevant\n",
              "\n",
              "[10860 rows x 2 columns]"
            ],
            "text/html": [
              "\n",
              "  <div id=\"df-bc15765a-beb8-4afc-ab8f-81e503f6f858\">\n",
              "    <div class=\"colab-df-container\">\n",
              "      <div>\n",
              "<style scoped>\n",
              "    .dataframe tbody tr th:only-of-type {\n",
              "        vertical-align: middle;\n",
              "    }\n",
              "\n",
              "    .dataframe tbody tr th {\n",
              "        vertical-align: top;\n",
              "    }\n",
              "\n",
              "    .dataframe thead th {\n",
              "        text-align: right;\n",
              "    }\n",
              "</style>\n",
              "<table border=\"1\" class=\"dataframe\">\n",
              "  <thead>\n",
              "    <tr style=\"text-align: right;\">\n",
              "      <th></th>\n",
              "      <th>text</th>\n",
              "      <th>choose_one</th>\n",
              "    </tr>\n",
              "  </thead>\n",
              "  <tbody>\n",
              "    <tr>\n",
              "      <th>0</th>\n",
              "      <td>Just happened a terrible car crash</td>\n",
              "      <td>Relevant</td>\n",
              "    </tr>\n",
              "    <tr>\n",
              "      <th>1</th>\n",
              "      <td>Our Deeds are the Reason of this #earthquake M...</td>\n",
              "      <td>Relevant</td>\n",
              "    </tr>\n",
              "    <tr>\n",
              "      <th>2</th>\n",
              "      <td>Heard about #earthquake is different cities, s...</td>\n",
              "      <td>Relevant</td>\n",
              "    </tr>\n",
              "    <tr>\n",
              "      <th>3</th>\n",
              "      <td>there is a forest fire at spot pond, geese are...</td>\n",
              "      <td>Relevant</td>\n",
              "    </tr>\n",
              "    <tr>\n",
              "      <th>4</th>\n",
              "      <td>Forest fire near La Ronge Sask. Canada</td>\n",
              "      <td>Relevant</td>\n",
              "    </tr>\n",
              "    <tr>\n",
              "      <th>...</th>\n",
              "      <td>...</td>\n",
              "      <td>...</td>\n",
              "    </tr>\n",
              "    <tr>\n",
              "      <th>10871</th>\n",
              "      <td>M1.94 [01:04 UTC]?5km S of Volcano Hawaii. htt...</td>\n",
              "      <td>Relevant</td>\n",
              "    </tr>\n",
              "    <tr>\n",
              "      <th>10872</th>\n",
              "      <td>Police investigating after an e-bike collided ...</td>\n",
              "      <td>Relevant</td>\n",
              "    </tr>\n",
              "    <tr>\n",
              "      <th>10873</th>\n",
              "      <td>The Latest: More Homes Razed by Northern Calif...</td>\n",
              "      <td>Relevant</td>\n",
              "    </tr>\n",
              "    <tr>\n",
              "      <th>10874</th>\n",
              "      <td>MEG issues Hazardous Weather Outlook (HWO) htt...</td>\n",
              "      <td>Relevant</td>\n",
              "    </tr>\n",
              "    <tr>\n",
              "      <th>10875</th>\n",
              "      <td>#CityofCalgary has activated its Municipal Eme...</td>\n",
              "      <td>Relevant</td>\n",
              "    </tr>\n",
              "  </tbody>\n",
              "</table>\n",
              "<p>10860 rows × 2 columns</p>\n",
              "</div>\n",
              "      <button class=\"colab-df-convert\" onclick=\"convertToInteractive('df-bc15765a-beb8-4afc-ab8f-81e503f6f858')\"\n",
              "              title=\"Convert this dataframe to an interactive table.\"\n",
              "              style=\"display:none;\">\n",
              "        \n",
              "  <svg xmlns=\"http://www.w3.org/2000/svg\" height=\"24px\"viewBox=\"0 0 24 24\"\n",
              "       width=\"24px\">\n",
              "    <path d=\"M0 0h24v24H0V0z\" fill=\"none\"/>\n",
              "    <path d=\"M18.56 5.44l.94 2.06.94-2.06 2.06-.94-2.06-.94-.94-2.06-.94 2.06-2.06.94zm-11 1L8.5 8.5l.94-2.06 2.06-.94-2.06-.94L8.5 2.5l-.94 2.06-2.06.94zm10 10l.94 2.06.94-2.06 2.06-.94-2.06-.94-.94-2.06-.94 2.06-2.06.94z\"/><path d=\"M17.41 7.96l-1.37-1.37c-.4-.4-.92-.59-1.43-.59-.52 0-1.04.2-1.43.59L10.3 9.45l-7.72 7.72c-.78.78-.78 2.05 0 2.83L4 21.41c.39.39.9.59 1.41.59.51 0 1.02-.2 1.41-.59l7.78-7.78 2.81-2.81c.8-.78.8-2.07 0-2.86zM5.41 20L4 18.59l7.72-7.72 1.47 1.35L5.41 20z\"/>\n",
              "  </svg>\n",
              "      </button>\n",
              "      \n",
              "  <style>\n",
              "    .colab-df-container {\n",
              "      display:flex;\n",
              "      flex-wrap:wrap;\n",
              "      gap: 12px;\n",
              "    }\n",
              "\n",
              "    .colab-df-convert {\n",
              "      background-color: #E8F0FE;\n",
              "      border: none;\n",
              "      border-radius: 50%;\n",
              "      cursor: pointer;\n",
              "      display: none;\n",
              "      fill: #1967D2;\n",
              "      height: 32px;\n",
              "      padding: 0 0 0 0;\n",
              "      width: 32px;\n",
              "    }\n",
              "\n",
              "    .colab-df-convert:hover {\n",
              "      background-color: #E2EBFA;\n",
              "      box-shadow: 0px 1px 2px rgba(60, 64, 67, 0.3), 0px 1px 3px 1px rgba(60, 64, 67, 0.15);\n",
              "      fill: #174EA6;\n",
              "    }\n",
              "\n",
              "    [theme=dark] .colab-df-convert {\n",
              "      background-color: #3B4455;\n",
              "      fill: #D2E3FC;\n",
              "    }\n",
              "\n",
              "    [theme=dark] .colab-df-convert:hover {\n",
              "      background-color: #434B5C;\n",
              "      box-shadow: 0px 1px 3px 1px rgba(0, 0, 0, 0.15);\n",
              "      filter: drop-shadow(0px 1px 2px rgba(0, 0, 0, 0.3));\n",
              "      fill: #FFFFFF;\n",
              "    }\n",
              "  </style>\n",
              "\n",
              "      <script>\n",
              "        const buttonEl =\n",
              "          document.querySelector('#df-bc15765a-beb8-4afc-ab8f-81e503f6f858 button.colab-df-convert');\n",
              "        buttonEl.style.display =\n",
              "          google.colab.kernel.accessAllowed ? 'block' : 'none';\n",
              "\n",
              "        async function convertToInteractive(key) {\n",
              "          const element = document.querySelector('#df-bc15765a-beb8-4afc-ab8f-81e503f6f858');\n",
              "          const dataTable =\n",
              "            await google.colab.kernel.invokeFunction('convertToInteractive',\n",
              "                                                     [key], {});\n",
              "          if (!dataTable) return;\n",
              "\n",
              "          const docLinkHtml = 'Like what you see? Visit the ' +\n",
              "            '<a target=\"_blank\" href=https://colab.research.google.com/notebooks/data_table.ipynb>data table notebook</a>'\n",
              "            + ' to learn more about interactive tables.';\n",
              "          element.innerHTML = '';\n",
              "          dataTable['output_type'] = 'display_data';\n",
              "          await google.colab.output.renderOutput(dataTable, element);\n",
              "          const docLink = document.createElement('div');\n",
              "          docLink.innerHTML = docLinkHtml;\n",
              "          element.appendChild(docLink);\n",
              "        }\n",
              "      </script>\n",
              "    </div>\n",
              "  </div>\n",
              "  "
            ]
          },
          "metadata": {},
          "execution_count": 14
        }
      ],
      "source": [
        "df"
      ]
    },
    {
      "cell_type": "markdown",
      "metadata": {
        "id": "BqA8raZyh1KR"
      },
      "source": [
        "이 [문서](https://chrisalbon.com/python/data_wrangling/pandas_map_values_to_values/) 를 참조하여 관련 트윗의 경우 숫자 1로, 관련 없는 트윗의 경우 0으로 매핑합니다. \n",
        "\n",
        "### 실습: 'Relevant'을 1로, 'Irrelevant' 을 0으로 매핑하여 'relevance'라는 새로운 열에 넣습니다."
      ]
    },
    {
      "cell_type": "code",
      "execution_count": null,
      "metadata": {
        "colab": {
          "base_uri": "https://localhost:8080/"
        },
        "id": "5ZrAFzvuh1KS",
        "outputId": "5242d442-8cd8-4efb-e697-3029ffc34956"
      },
      "outputs": [
        {
          "output_type": "stream",
          "name": "stderr",
          "text": [
            "/usr/local/lib/python3.7/dist-packages/ipykernel_launcher.py:2: SettingWithCopyWarning: \n",
            "A value is trying to be set on a copy of a slice from a DataFrame.\n",
            "Try using .loc[row_indexer,col_indexer] = value instead\n",
            "\n",
            "See the caveats in the documentation: https://pandas.pydata.org/pandas-docs/stable/user_guide/indexing.html#returning-a-view-versus-a-copy\n",
            "  \n"
          ]
        }
      ],
      "source": [
        "relevance = {'Relevant':1,'Not Relevant':0}\n",
        "df['relevance'] = df.choose_one.map(relevance) # 관련 값을 숫자 1에, 관련 없는 값을 숫자 0에 매핑합니다."
      ]
    },
    {
      "cell_type": "code",
      "execution_count": null,
      "metadata": {
        "colab": {
          "base_uri": "https://localhost:8080/",
          "height": 423
        },
        "id": "7tEQbXDOh1KS",
        "outputId": "e5bb5235-1152-4596-bcac-40e157737f5a"
      },
      "outputs": [
        {
          "output_type": "execute_result",
          "data": {
            "text/plain": [
              "                                                    text choose_one  relevance\n",
              "0                     Just happened a terrible car crash   Relevant          1\n",
              "1      Our Deeds are the Reason of this #earthquake M...   Relevant          1\n",
              "2      Heard about #earthquake is different cities, s...   Relevant          1\n",
              "3      there is a forest fire at spot pond, geese are...   Relevant          1\n",
              "4                 Forest fire near La Ronge Sask. Canada   Relevant          1\n",
              "...                                                  ...        ...        ...\n",
              "10871  M1.94 [01:04 UTC]?5km S of Volcano Hawaii. htt...   Relevant          1\n",
              "10872  Police investigating after an e-bike collided ...   Relevant          1\n",
              "10873  The Latest: More Homes Razed by Northern Calif...   Relevant          1\n",
              "10874  MEG issues Hazardous Weather Outlook (HWO) htt...   Relevant          1\n",
              "10875  #CityofCalgary has activated its Municipal Eme...   Relevant          1\n",
              "\n",
              "[10860 rows x 3 columns]"
            ],
            "text/html": [
              "\n",
              "  <div id=\"df-c00e5223-a8dc-4959-a3e8-2b8978bb89ac\">\n",
              "    <div class=\"colab-df-container\">\n",
              "      <div>\n",
              "<style scoped>\n",
              "    .dataframe tbody tr th:only-of-type {\n",
              "        vertical-align: middle;\n",
              "    }\n",
              "\n",
              "    .dataframe tbody tr th {\n",
              "        vertical-align: top;\n",
              "    }\n",
              "\n",
              "    .dataframe thead th {\n",
              "        text-align: right;\n",
              "    }\n",
              "</style>\n",
              "<table border=\"1\" class=\"dataframe\">\n",
              "  <thead>\n",
              "    <tr style=\"text-align: right;\">\n",
              "      <th></th>\n",
              "      <th>text</th>\n",
              "      <th>choose_one</th>\n",
              "      <th>relevance</th>\n",
              "    </tr>\n",
              "  </thead>\n",
              "  <tbody>\n",
              "    <tr>\n",
              "      <th>0</th>\n",
              "      <td>Just happened a terrible car crash</td>\n",
              "      <td>Relevant</td>\n",
              "      <td>1</td>\n",
              "    </tr>\n",
              "    <tr>\n",
              "      <th>1</th>\n",
              "      <td>Our Deeds are the Reason of this #earthquake M...</td>\n",
              "      <td>Relevant</td>\n",
              "      <td>1</td>\n",
              "    </tr>\n",
              "    <tr>\n",
              "      <th>2</th>\n",
              "      <td>Heard about #earthquake is different cities, s...</td>\n",
              "      <td>Relevant</td>\n",
              "      <td>1</td>\n",
              "    </tr>\n",
              "    <tr>\n",
              "      <th>3</th>\n",
              "      <td>there is a forest fire at spot pond, geese are...</td>\n",
              "      <td>Relevant</td>\n",
              "      <td>1</td>\n",
              "    </tr>\n",
              "    <tr>\n",
              "      <th>4</th>\n",
              "      <td>Forest fire near La Ronge Sask. Canada</td>\n",
              "      <td>Relevant</td>\n",
              "      <td>1</td>\n",
              "    </tr>\n",
              "    <tr>\n",
              "      <th>...</th>\n",
              "      <td>...</td>\n",
              "      <td>...</td>\n",
              "      <td>...</td>\n",
              "    </tr>\n",
              "    <tr>\n",
              "      <th>10871</th>\n",
              "      <td>M1.94 [01:04 UTC]?5km S of Volcano Hawaii. htt...</td>\n",
              "      <td>Relevant</td>\n",
              "      <td>1</td>\n",
              "    </tr>\n",
              "    <tr>\n",
              "      <th>10872</th>\n",
              "      <td>Police investigating after an e-bike collided ...</td>\n",
              "      <td>Relevant</td>\n",
              "      <td>1</td>\n",
              "    </tr>\n",
              "    <tr>\n",
              "      <th>10873</th>\n",
              "      <td>The Latest: More Homes Razed by Northern Calif...</td>\n",
              "      <td>Relevant</td>\n",
              "      <td>1</td>\n",
              "    </tr>\n",
              "    <tr>\n",
              "      <th>10874</th>\n",
              "      <td>MEG issues Hazardous Weather Outlook (HWO) htt...</td>\n",
              "      <td>Relevant</td>\n",
              "      <td>1</td>\n",
              "    </tr>\n",
              "    <tr>\n",
              "      <th>10875</th>\n",
              "      <td>#CityofCalgary has activated its Municipal Eme...</td>\n",
              "      <td>Relevant</td>\n",
              "      <td>1</td>\n",
              "    </tr>\n",
              "  </tbody>\n",
              "</table>\n",
              "<p>10860 rows × 3 columns</p>\n",
              "</div>\n",
              "      <button class=\"colab-df-convert\" onclick=\"convertToInteractive('df-c00e5223-a8dc-4959-a3e8-2b8978bb89ac')\"\n",
              "              title=\"Convert this dataframe to an interactive table.\"\n",
              "              style=\"display:none;\">\n",
              "        \n",
              "  <svg xmlns=\"http://www.w3.org/2000/svg\" height=\"24px\"viewBox=\"0 0 24 24\"\n",
              "       width=\"24px\">\n",
              "    <path d=\"M0 0h24v24H0V0z\" fill=\"none\"/>\n",
              "    <path d=\"M18.56 5.44l.94 2.06.94-2.06 2.06-.94-2.06-.94-.94-2.06-.94 2.06-2.06.94zm-11 1L8.5 8.5l.94-2.06 2.06-.94-2.06-.94L8.5 2.5l-.94 2.06-2.06.94zm10 10l.94 2.06.94-2.06 2.06-.94-2.06-.94-.94-2.06-.94 2.06-2.06.94z\"/><path d=\"M17.41 7.96l-1.37-1.37c-.4-.4-.92-.59-1.43-.59-.52 0-1.04.2-1.43.59L10.3 9.45l-7.72 7.72c-.78.78-.78 2.05 0 2.83L4 21.41c.39.39.9.59 1.41.59.51 0 1.02-.2 1.41-.59l7.78-7.78 2.81-2.81c.8-.78.8-2.07 0-2.86zM5.41 20L4 18.59l7.72-7.72 1.47 1.35L5.41 20z\"/>\n",
              "  </svg>\n",
              "      </button>\n",
              "      \n",
              "  <style>\n",
              "    .colab-df-container {\n",
              "      display:flex;\n",
              "      flex-wrap:wrap;\n",
              "      gap: 12px;\n",
              "    }\n",
              "\n",
              "    .colab-df-convert {\n",
              "      background-color: #E8F0FE;\n",
              "      border: none;\n",
              "      border-radius: 50%;\n",
              "      cursor: pointer;\n",
              "      display: none;\n",
              "      fill: #1967D2;\n",
              "      height: 32px;\n",
              "      padding: 0 0 0 0;\n",
              "      width: 32px;\n",
              "    }\n",
              "\n",
              "    .colab-df-convert:hover {\n",
              "      background-color: #E2EBFA;\n",
              "      box-shadow: 0px 1px 2px rgba(60, 64, 67, 0.3), 0px 1px 3px 1px rgba(60, 64, 67, 0.15);\n",
              "      fill: #174EA6;\n",
              "    }\n",
              "\n",
              "    [theme=dark] .colab-df-convert {\n",
              "      background-color: #3B4455;\n",
              "      fill: #D2E3FC;\n",
              "    }\n",
              "\n",
              "    [theme=dark] .colab-df-convert:hover {\n",
              "      background-color: #434B5C;\n",
              "      box-shadow: 0px 1px 3px 1px rgba(0, 0, 0, 0.15);\n",
              "      filter: drop-shadow(0px 1px 2px rgba(0, 0, 0, 0.3));\n",
              "      fill: #FFFFFF;\n",
              "    }\n",
              "  </style>\n",
              "\n",
              "      <script>\n",
              "        const buttonEl =\n",
              "          document.querySelector('#df-c00e5223-a8dc-4959-a3e8-2b8978bb89ac button.colab-df-convert');\n",
              "        buttonEl.style.display =\n",
              "          google.colab.kernel.accessAllowed ? 'block' : 'none';\n",
              "\n",
              "        async function convertToInteractive(key) {\n",
              "          const element = document.querySelector('#df-c00e5223-a8dc-4959-a3e8-2b8978bb89ac');\n",
              "          const dataTable =\n",
              "            await google.colab.kernel.invokeFunction('convertToInteractive',\n",
              "                                                     [key], {});\n",
              "          if (!dataTable) return;\n",
              "\n",
              "          const docLinkHtml = 'Like what you see? Visit the ' +\n",
              "            '<a target=\"_blank\" href=https://colab.research.google.com/notebooks/data_table.ipynb>data table notebook</a>'\n",
              "            + ' to learn more about interactive tables.';\n",
              "          element.innerHTML = '';\n",
              "          dataTable['output_type'] = 'display_data';\n",
              "          await google.colab.output.renderOutput(dataTable, element);\n",
              "          const docLink = document.createElement('div');\n",
              "          docLink.innerHTML = docLinkHtml;\n",
              "          element.appendChild(docLink);\n",
              "        }\n",
              "      </script>\n",
              "    </div>\n",
              "  </div>\n",
              "  "
            ]
          },
          "metadata": {},
          "execution_count": 16
        }
      ],
      "source": [
        "df"
      ]
    },
    {
      "cell_type": "markdown",
      "metadata": {
        "id": "7ecZ_tI6h1KS"
      },
      "source": [
        "우리가 한 일을 보세요!\n",
        "- 관심 있는 칼럼만 골라서 13개였던 칼럼을 단 3개로 줄였습니다!\n",
        "- '관련성'을 1로, '관련성 없음'을 0으로 매핑했습니다.\n",
        "\n",
        "이제 텍스트 처리를 진행하고, 단어 가방 모형과 tf-idf를 진행하겠습니다!"
      ]
    },
    {
      "cell_type": "markdown",
      "metadata": {
        "id": "Z-OXPVe5h1KS"
      },
      "source": [
        "### 토큰화\n",
        "\n",
        "첫 번째 단계는 트윗을 정규화하고 토큰화하는 기능을 작성하는 것입니다.(모듈 24에서 수행하였습니다). 아래에 예시가 있지만, 이전에 배운 기술을 활용하여 개선할 수 있습니다. \n",
        "\n",
        "예를 들어, 금지어를 추가하거나 레밍(Lemming) 또는 스티밍(Stemming)으로 데이터 세트를 줄일 수 있습니다. 데이터를 더 많이 전처리 할수록 모델이 더 좋아질 수 있습니다!\n",
        "  \n",
        "금지어 목록에서 그 단어를 금지하도록 선택한 이유는 무엇입니까?"
      ]
    },
    {
      "cell_type": "code",
      "execution_count": null,
      "metadata": {
        "colab": {
          "base_uri": "https://localhost:8080/"
        },
        "id": "4-AVR3hkh1KS",
        "outputId": "ca7d6261-37eb-4238-ca39-dfcbf35022a5"
      },
      "outputs": [
        {
          "output_type": "stream",
          "name": "stdout",
          "text": [
            "['good', 'morning', 'how', 'are', 'you', 'today', 'it', 'good', 'day']\n"
          ]
        }
      ],
      "source": [
        "def extract_words(sentence):\n",
        "    '''This is to clean and tokenize words'''\n",
        "    ignore_words = ['a', 'the', 'if', 'br', 'and', 'of', 'to', 'is']\n",
        "    words = re.sub(\"[^\\w]\", \" \",  sentence).split() # this replaces all special chars with ' '\n",
        "    words_cleaned = [w.lower() for w in words if w not in ignore_words]\n",
        "    return words_cleaned \n",
        "\n",
        "# 테스트해 봅시다!\n",
        "test_sentence = 'Good morning, how are you today? It is a good day.'\n",
        "print(extract_words(test_sentence))"
      ]
    },
    {
      "cell_type": "markdown",
      "metadata": {
        "id": "FdmuwbBxh1KS"
      },
      "source": [
        "### 실습: extract_words 함수에 최소 5개 이상의 금지 단어를 추가합니다."
      ]
    },
    {
      "cell_type": "code",
      "execution_count": null,
      "metadata": {
        "colab": {
          "base_uri": "https://localhost:8080/"
        },
        "id": "OjHH0mLlh1KS",
        "outputId": "16cb8653-b923-45f8-d72c-4c36a72b8390"
      },
      "outputs": [
        {
          "output_type": "stream",
          "name": "stdout",
          "text": [
            "['good', 'morning', 'how', 'are', 'you', 'today', 'it', 'good', 'day', 'good', 'fuck']\n"
          ]
        }
      ],
      "source": [
        "#your code here\n",
        "test_sentence = 'Good morning, how are you today? It is a good day. if a good the fuck'\n",
        "print(extract_words(test_sentence))"
      ]
    },
    {
      "cell_type": "markdown",
      "metadata": {
        "id": "Ed10eCgeh1KT"
      },
      "source": [
        "### 실습: 같은 문장에서 새로운 금지어를 시험해보세요!"
      ]
    },
    {
      "cell_type": "code",
      "execution_count": null,
      "metadata": {
        "colab": {
          "base_uri": "https://localhost:8080/"
        },
        "id": "8FAsJoBeh1KT",
        "outputId": "b582cac7-b838-4333-f301-d91b78b8c5e9"
      },
      "outputs": [
        {
          "output_type": "stream",
          "name": "stdout",
          "text": [
            "['good', 'morning', 'how', 'are', 'you', 'today', 'it', 'good', 'day']\n"
          ]
        }
      ],
      "source": [
        "# 테스트해 봅시다!\n",
        "test_sentence = 'Good morning, how are you today? It is a good day.'\n",
        "print(extract_words(test_sentence))"
      ]
    },
    {
      "cell_type": "markdown",
      "metadata": {
        "id": "lxzu7Ie3h1KT"
      },
      "source": [
        "'it' 라는 단어가 여전히 존재하고 있다는 것을 알고 있습니까? 왜 그런지 아십니까?\n",
        "\n",
        "### 실습: extract_words 함수에 소문자를 반영하는 기능 추가\n",
        "방법은 [여기](https://machinelearningmastery.com/clean-text-machine-learning-python/) 를 참조하십시오. "
      ]
    },
    {
      "cell_type": "code",
      "execution_count": null,
      "metadata": {
        "id": "so4dFeQhh1KT"
      },
      "outputs": [],
      "source": [
        "def extract_words(sentence):\n",
        "    '''This is to clean and tokenize words'''\n",
        "    ignore_words = ['a', 'the', 'if', 'br', 'and', 'of', 'to', 'is', 'are', 'he', 'she', 'my', 'you', 'it','how']\n",
        "    words = re.sub(\"[^\\w]\", \" \",  sentence).split() # 모든 특수 문자를 ' '로 대체합니다.\n",
        "    words = [word.lower() for word in words]\n",
        "    words_cleaned = [w.lower() for w in words if w not in ignore_words]\n",
        "    return words_cleaned "
      ]
    },
    {
      "cell_type": "markdown",
      "metadata": {
        "id": "29bEIsdFh1KT"
      },
      "source": [
        "같은 문장으로 다시 해보세요!"
      ]
    },
    {
      "cell_type": "code",
      "execution_count": null,
      "metadata": {
        "colab": {
          "base_uri": "https://localhost:8080/"
        },
        "id": "jf7zA6YMh1KT",
        "outputId": "1d70968e-8148-4944-f7c2-d103e723f2ca"
      },
      "outputs": [
        {
          "output_type": "stream",
          "name": "stdout",
          "text": [
            "['good', 'morning', 'today', 'good', 'day']\n"
          ]
        }
      ],
      "source": [
        "# 테스트해 봅시다!\n",
        "test_sentence = 'Good morning, how are you today? It is a good day.'\n",
        "print(extract_words(test_sentence))"
      ]
    },
    {
      "cell_type": "markdown",
      "metadata": {
        "id": "XylJsoQjh1KT"
      },
      "source": [
        "좋습니다! 스티밍 또는 레밍과 같은 자체 프로세스를 파이프라인에 자유롭게 추가할 수 있습니다."
      ]
    },
    {
      "cell_type": "markdown",
      "metadata": {
        "id": "eEaehZhBh1KT"
      },
      "source": [
        "## 1. 단어 가방 모형\n",
        "이제 텍스트 데이터를 전처리하는 기능이 생겼으니 텍스트 데이터를 숫자로 변환하는 작업을 진행할 수 있습니다. 이를 위한 가장 간단한 방법은 단어 가방 모형 알고리즘을 사용하는 것이다. \n",
        "\n",
        "단어 가방에서 각 단어가 각 트윗에 대해 나타나는 횟수를 계산하고 해당 수를 입력 데이터로 사용합니다. 이 작업은 다음 단계를 통해 수행됩니다:\n",
        "1. 말뭉치에 나타나는 모든 단어의 어휘를 만듭니다(말뭉치는 모든 텍스트 데이터의 모음입니다. 즉 모든 트윗).\n",
        "2. 그 어휘를 벡터로 전환합니다. 예를들어 말뭉치에 500개의 고유한 단어가 있는 경우, 어휘의 벡터의 크기는 500이며 각 위치는 말뭉치의 단어에 해당합니다.\n",
        "3. 각 문서 (트윗)에 대해 모든 단어가 나타나는 횟수를 계산하고 해당 숫자를 벡터에 추가합니다.  이렇게 하면 각 문서에 고유한 길이 500 벡터가 생성되어 문서에 나타나는 모든 단어를 나타냅니다.\n",
        "\n",
        "### 예시 \n",
        "두 개의 문서로 구성된 말뭉치를 고려합니다: \n",
        "1. 'I love NLP', \n",
        "2. 'I love machine learning'. \n",
        "\n",
        "### 어휘 \n",
        "어휘는 다음과 같은 단어로 구성된 길이 5의 벡터가 됩니다: \n",
        "\n",
        "'I', 'love', 'NLP', 'machine', 'learning'.  \n",
        "\n",
        "#### 벡터\n",
        "첫 번째 문장 (1 번)에 대한 벡터는 다음과 같습니다.: \n",
        "[1, 1, 1, 0, 0] 'I', 'love', 'NLP'가 포함되어 있지만 'machine', 'learning'은 포함되어 있지 않기 때문입니다..  \n",
        "\n",
        "2에 대한 벡터를 구성할 수 있습니까?\n",
        "\n",
        "1과 2의 벡터를 결합하면, 단어 가방은 첫 번째 행에 벡터 1이 있고, 두 번째 행에 벡터 2가 있는 배열이 됩니다.\n",
        "\n",
        "이제 이 알고리즘을 구현하겠습니다!"
      ]
    },
    {
      "cell_type": "markdown",
      "metadata": {
        "id": "AY18imKPh1KU"
      },
      "source": [
        "### 단어 가방 만들기\n",
        "\n",
        "먼저 데이터 세트에 각 단어가 얼마나 자주 나타나는지 알고 싶습니다. \n",
        "\n",
        "우리는 이것을 사전의 형태로 나타낼 수 있는데, 사전의 형식은 {'word':frequency}이며, 여기서 각 키는 'word'이고 frequency는 단어가 데이터 세트에 나타나는 횟수입니다.\n",
        "\n",
        "사전에 대해 더 알고 싶으시면 [파이써 딕셔너리](https://www.w3schools.com/python/python_dictionaries.asp) 를 참조하십시오.  \n",
        "\n",
        "### 해시 맵\n",
        "\n",
        "이 사전을 해시 맵이라고 하며 문서의 각 토큰을 반복하여 점진적으로 구축 할 수 있습니다.\n",
        "\n",
        "해시 맵에서 토큰을 찾을 수 없는 경우 토큰을 해시 맵에 추가하고 빈도를 1로 설정합니다. 토큰이 이미 있으면 빈도를 1씩 증가시킵니다. \n",
        "  \n",
        "우리는 두 가지 기능에서 이 작업을 수행 할 것입니다. \n",
        "1. 먼저 hash_map이라는 사전과 트윗의 토큰을 가져 와서 토큰의 각 단어로 hash_map을 업데이트하는 map_book이라는 함수를 만듭니다. \n",
        "2. 다음으로, 모든 트윗을 반복할 수 있는 함수(make_hash_map이라고 부를 수 있음)를 만들고, hash_map을 업데이트하는 첫 번째 함수를 호출합니다.\n",
        "  \n",
        "*힌트: \n",
        "`for word in tokens:` 를 사용하여 토큰을 반복하여 사용할 수 있습니다.  \n",
        "`if word in hash_map:`을 사용하여 단어가 해시 맵에 존재하는지 확인할 수 있습니다.  \n",
        "`hash_map[word]`을 사용하여 해시 맵의 계수를 평가할 수 있습니다. 이 단어를 1씩 증가시켜 카운트를 늘립니다."
      ]
    },
    {
      "cell_type": "markdown",
      "metadata": {
        "id": "rDVE0i2ch1KU"
      },
      "source": [
        "이것은 map_book 함수입니다. 이해할 수 있습니까?"
      ]
    },
    {
      "cell_type": "code",
      "execution_count": null,
      "metadata": {
        "id": "jRqiV7iqh1KU"
      },
      "outputs": [],
      "source": [
        "# 단어의 빈도를 계산합니다\n",
        "def map_book(hash_map, tokens):\n",
        "    if tokens is not None:\n",
        "        for word in tokens:\n",
        "            # 단어가 존재합니까?\n",
        "            if word in hash_map:\n",
        "                hash_map[word] = hash_map[word] + 1\n",
        "            else:\n",
        "                hash_map[word] = 1\n",
        "\n",
        "        return hash_map\n",
        "    else:\n",
        "        return None"
      ]
    },
    {
      "cell_type": "markdown",
      "metadata": {
        "id": "LKHRUnB0h1KU"
      },
      "source": [
        "이것은 make_hash_map 함수입니다. 이해할 수 있겠습니까?"
      ]
    },
    {
      "cell_type": "code",
      "execution_count": null,
      "metadata": {
        "id": "8C7Egl8Oh1KU"
      },
      "outputs": [],
      "source": [
        "def make_hash_map(df):\n",
        "    hash_map = {}\n",
        "    for index, row in df.iterrows():\n",
        "        hash_map = map_book(hash_map, extract_words(row['text']))\n",
        "    return hash_map"
      ]
    },
    {
      "cell_type": "markdown",
      "metadata": {
        "id": "8wHHKpHDh1KU"
      },
      "source": [
        "### 사전을 다시 정의합니다.\n",
        "\n",
        "모든 트윗의 모든 단어를 사용하여 단어 가방을 구성할 수 있지만 데이터의 양이 많이 때문에 컴퓨터에 많은 부담이 될 수 있습니다. 좋은 해결책은 가장 흔한 단어 몇 백 개 혹은 수천 개만 가져가는 것입니다. 우리는 우리의 사전을 500개의 가장 인기 있는 토큰들로만 구성되도록 재정립할 것입니다.\n",
        "  \n",
        "어떻게 이런 일을 할 수 있을까요? 각 토큰이 있는 사전인 해시 맵과 토큰이 값으로 표시된 횟수를 방금 작성했다는 점을 기억하십시오. hash_map과 최대 어휘를 사용하는 frequent_vocab이라는 함수를 작성하고 최대 어휘에 정의 된대로 가장 인기있는 토큰 목록을 반환합니다(지금은 500으로 설정)."
      ]
    },
    {
      "cell_type": "markdown",
      "metadata": {
        "id": "gklFi_wNh1KU"
      },
      "source": [
        "이것은 frequest_vocab 함수입니다. 이해할 수 있겠습니까?"
      ]
    },
    {
      "cell_type": "code",
      "execution_count": null,
      "metadata": {
        "id": "5kBGWP_Xh1KV"
      },
      "outputs": [],
      "source": [
        "# frequent_vocab 함수를 다음과 같은 입력으로 정의하십시오 : word_freq 및 max_features\n",
        "def frequent_vocab(word_freq, max_features): \n",
        "    counter = 0  # 값 0으로 카운터를 초기화하십시오\n",
        "    vocab = []   # Vocab이라는 빈 목록을 만듭니다\n",
        "    # 단어를 빈도수가 낮은 순서로 사전에 나열합니다\n",
        "    for key, value in sorted(word_freq.items(), key=lambda item: (item[1], item[0]), reverse=True): \n",
        "       # 상위(max_features) 단어 수를 얻기 위한 루프 함수\n",
        "        if counter<max_features: \n",
        "            vocab.append(key)\n",
        "            counter+=1\n",
        "        else: break\n",
        "    return vocab"
      ]
    },
    {
      "cell_type": "markdown",
      "metadata": {
        "id": "3h_aAQx-h1KV"
      },
      "source": [
        "### 실험! 위의 함수를 (reverse = False)로 변경하면 어떻게 됩니까?"
      ]
    },
    {
      "cell_type": "code",
      "execution_count": null,
      "metadata": {
        "id": "rVQJHkM4h1KV"
      },
      "outputs": [],
      "source": [
        "hash_map = make_hash_map(df) #토큰 화 된 데이터 세트에서 해시 맵 (단어 및 빈도) 생성\n",
        "\n",
        "vocab=frequent_vocab(hash_map, 500)\n",
        "hash_map"
      ]
    },
    {
      "cell_type": "markdown",
      "metadata": {
        "id": "dD26iu43h1KV"
      },
      "source": [
        "### 실험! max_feature를 100으로 변경하면 어떻게 됩니까?\n",
        "나중에 500 개 이상을 되돌려 놓는 것을 잊지 마십시오."
      ]
    },
    {
      "cell_type": "markdown",
      "metadata": {
        "id": "q7HUFrQzh1KV"
      },
      "source": [
        "### 마침내 우리는 단어 가방을 구축합니다"
      ]
    },
    {
      "cell_type": "code",
      "execution_count": null,
      "metadata": {
        "id": "sgbVETmEh1KV"
      },
      "outputs": [],
      "source": [
        "# d다음과 같은 입력으로 함수 bagofwords를 정의: sentence, words\n",
        "def bagofwords(sentence, words):\n",
        "    sentence_words = extract_words(sentence) # 문장/트윗을 토큰화하고 변수 sentence_words에 할당\n",
        "    # 빈도 단어 수\n",
        "    bag = np.zeros(len(words)) # 크기가 len(words)이고 0으로 구성된 NumPy 배열 생성\n",
        "    # 트윗에 토큰이 있을 때 데이터를 반복하고 1의 값을 추가\n",
        "    for sw in sentence_words:\n",
        "        for i,word in enumerate(words):\n",
        "            if word == sw: \n",
        "                bag[i] += 1\n",
        "                \n",
        "    return np.array(bag) # 하나의 트윗에 대한 단어 가방 반환"
      ]
    },
    {
      "cell_type": "markdown",
      "metadata": {
        "id": "HlGeGTqRh1KV"
      },
      "source": [
        "### 실습: 작성된 텍스트 데이터를 사용하여 기능을 테스트합니다.\n",
        "위의 단어 목록을 보고 샘플 텍스트에 추가할 단어를 확인하십시오."
      ]
    },
    {
      "cell_type": "code",
      "execution_count": null,
      "metadata": {
        "scrolled": true,
        "colab": {
          "base_uri": "https://localhost:8080/"
        },
        "id": "PFCf1UXAh1KV",
        "outputId": "c4f8641e-0bc9-4db4-debc-3e174941bee4"
      },
      "outputs": [
        {
          "output_type": "execute_result",
          "data": {
            "text/plain": [
              "array([1., 1., 1., 1., 0., 0., 0., 1., 0., 0., 0., 0., 0., 0., 0., 0., 0.,\n",
              "       0., 0., 0., 0., 0., 0., 0., 0., 0., 0., 0., 0., 0., 0., 0., 0., 0.,\n",
              "       0., 0., 0., 0., 0., 0., 0., 0., 0., 0., 0., 0., 0., 0., 0., 0., 0.,\n",
              "       0., 0., 0., 0., 0., 0., 0., 0., 0., 0., 0., 0., 0., 0., 0., 0., 0.,\n",
              "       0., 0., 0., 0., 0., 0., 0., 0., 0., 0., 0., 0., 0., 0., 0., 0., 0.,\n",
              "       0., 0., 0., 0., 0., 0., 0., 0., 0., 0., 0., 0., 0., 0., 0., 0., 0.,\n",
              "       0., 0., 0., 0., 0., 0., 0., 0., 0., 0., 0., 0., 0., 0., 0., 0., 0.,\n",
              "       0., 0., 0., 0., 0., 0., 0., 0., 0., 0., 0., 0., 0., 0., 0., 0., 0.,\n",
              "       0., 0., 0., 0., 0., 0., 0., 0., 0., 0., 0., 0., 0., 0., 0., 0., 0.,\n",
              "       0., 0., 0., 0., 0., 0., 0., 0., 0., 0., 0., 0., 0., 0., 0., 0., 0.,\n",
              "       0., 0., 0., 0., 0., 0., 0., 0., 0., 0., 0., 0., 0., 0., 0., 0., 0.,\n",
              "       0., 0., 0., 0., 0., 0., 0., 0., 0., 0., 0., 0., 0., 0., 0., 0., 0.,\n",
              "       0., 0., 0., 0., 0., 0., 0., 0., 0., 0., 0., 0., 0., 0., 0., 0., 0.,\n",
              "       0., 0., 0., 0., 0., 0., 0., 0., 0., 0., 0., 0., 0., 0., 0., 0., 0.,\n",
              "       0., 0., 0., 0., 0., 0., 0., 0., 0., 0., 0., 0., 0., 0., 0., 0., 0.,\n",
              "       0., 0., 0., 0., 0., 0., 0., 0., 0., 0., 0., 0., 0., 0., 0., 0., 0.,\n",
              "       0., 0., 0., 0., 0., 0., 0., 0., 0., 0., 0., 0., 0., 0., 0., 0., 0.,\n",
              "       0., 0., 0., 0., 0., 0., 0., 0., 0., 0., 0., 0., 0., 0., 0., 0., 0.,\n",
              "       0., 0., 0., 0., 0., 0., 0., 0., 0., 0., 0., 0., 0., 0., 0., 0., 0.,\n",
              "       0., 0., 0., 0., 0., 0., 0., 0., 0., 0., 0., 0., 0., 0., 0., 0., 0.,\n",
              "       0., 0., 0., 0., 0., 0., 0., 0., 0., 0., 0., 0., 0., 0., 0., 0., 0.,\n",
              "       0., 0., 0., 0., 0., 0., 0., 0., 0., 0., 0., 0., 0., 0., 0., 0., 0.,\n",
              "       0., 0., 0., 0., 0., 0., 0., 0., 0., 0., 0., 0., 0., 0., 0., 0., 0.,\n",
              "       0., 0., 0., 0., 0., 0., 0., 0., 0., 0., 0., 0., 0., 0., 0., 0., 0.,\n",
              "       0., 0., 0., 0., 0., 0., 0., 0., 0., 0., 0., 0., 0., 0., 0., 0., 0.,\n",
              "       0., 0., 0., 0., 0., 0., 0., 0., 0., 0., 0., 0., 0., 0., 0., 0., 0.,\n",
              "       0., 0., 0., 0., 0., 0., 0., 0., 0., 0., 0., 0., 0., 0., 0., 0., 0.,\n",
              "       0., 0., 0., 0., 0., 0., 0., 0., 0., 0., 0., 0., 0., 0., 0., 0., 0.,\n",
              "       0., 0., 0., 0., 0., 0., 0., 0., 0., 0., 0., 0., 0., 0., 0., 0., 0.,\n",
              "       0., 0., 0., 0., 0., 0., 0.])"
            ]
          },
          "metadata": {},
          "execution_count": 27
        }
      ],
      "source": [
        "text = 't co http  in for'\n",
        "bagofwords(text, vocab)"
      ]
    },
    {
      "cell_type": "markdown",
      "metadata": {
        "id": "qH__E4TRh1KW"
      },
      "source": [
        "단어 가방의 한 행을 보세요!\n",
        "\n",
        "이제 전체 데이터 세트를 통해 이 함수를 반복하려고 합니다. 어떻게 하는지는 아래를 참조하십시오."
      ]
    },
    {
      "cell_type": "code",
      "execution_count": null,
      "metadata": {
        "id": "P9gOPEUth1KW"
      },
      "outputs": [],
      "source": [
        "# 단어 가방을 포함하도록 지정된 차원이있는 숫자 배열을 설정합니다.\n",
        "n_words = len(vocab)\n",
        "n_docs = len(df)\n",
        "bag_o = np.zeros([n_docs,n_words])\n",
        "# 루프 함수를 사용하여 각 트윗에 대해 새 행을 추가합니다.\n",
        "for ii in range(n_docs): \n",
        "    # 이전 함수 'bagofwords'를 호출합니다. 입력을 참조하십시오 : sentence, words\n",
        "    bag_o[ii,:] = bagofwords(df['text'].iloc[ii], vocab) "
      ]
    },
    {
      "cell_type": "markdown",
      "metadata": {
        "id": "Xok_pbBch1KW"
      },
      "source": [
        "이제 numpy 배열의 [차원](https://stackoverflow.com/questions/14847457/how-do-i-find-the-length-or-dimensions-size-of-a-numpy-matrix-in-python) 을 알아보십시오. 여러분에게 의미가 있습니까?"
      ]
    },
    {
      "cell_type": "code",
      "execution_count": null,
      "metadata": {
        "colab": {
          "base_uri": "https://localhost:8080/"
        },
        "id": "fe1hepsjh1KW",
        "outputId": "f666f8c6-b32d-4994-b3bf-20815cd622bc"
      },
      "outputs": [
        {
          "output_type": "execute_result",
          "data": {
            "text/plain": [
              "(10860, 500)"
            ]
          },
          "metadata": {},
          "execution_count": 29
        }
      ],
      "source": [
        "#your code here\n",
        "bag_o.shape"
      ]
    },
    {
      "cell_type": "markdown",
      "metadata": {
        "id": "4N9HXV8lh1KW"
      },
      "source": [
        "## 2. 전체 빈도, 역 문서 빈도 찾기\n",
        "\n",
        "여기서 우리는 문장/트윗에서 가장 의미있는 단어를 사용하고자합니다 가장 자주 사용되는 단어가 중요하다고 생각하는 것이 의미가 있습니까?\n",
        "\n",
        "우리는 먼저 우리의 단어 가방 안에 있는 단어들을 살펴봅니다. 가장 많이 사용하는 단어 20개를 출력합니다.\n",
        "\n",
        "힌트: hash_map은 각 단어를 키로 사용하는 모든 워드와 해당 빈도를 dict{word: frequency} 값으로 표시한 사전입니다. 이 가장 일반적인 단어에 대해 무엇을 알 수 있습니까?\n",
        "\n",
        "자세한 내용은 '주요 기능' 아래의 [이 문서](https://docs.python.org/3/howto/sorting.html) 를 참조하십시오. 개체의 인덱스를 키로 사용합니다."
      ]
    },
    {
      "cell_type": "code",
      "execution_count": null,
      "metadata": {
        "colab": {
          "base_uri": "https://localhost:8080/"
        },
        "id": "6ZugIX-Qh1KW",
        "outputId": "f855550b-5d0e-4626-ed47-a97480e349da"
      },
      "outputs": [
        {
          "output_type": "execute_result",
          "data": {
            "text/plain": [
              "[('t', 7442),\n",
              " ('co', 6799),\n",
              " ('http', 6153),\n",
              " ('in', 2805),\n",
              " ('i', 2486),\n",
              " ('ã', 1633),\n",
              " ('s', 1272),\n",
              " ('for', 1243),\n",
              " ('on', 1236),\n",
              " ('that', 844),\n",
              " ('with', 798),\n",
              " ('by', 768),\n",
              " ('at', 745),\n",
              " ('this', 702),\n",
              " ('https', 618),\n",
              " ('from', 613),\n",
              " ('be', 587),\n",
              " ('was', 554),\n",
              " ('â', 535),\n",
              " ('m', 531)]"
            ]
          },
          "metadata": {},
          "execution_count": 30
        }
      ],
      "source": [
        "#your code here\n",
        "sorted(hash_map.items(), key=lambda item: item[1], reverse=True)[:20]"
      ]
    },
    {
      "cell_type": "markdown",
      "metadata": {
        "id": "lJrnFFnJh1KX"
      },
      "source": [
        "Key=Lambda 란 무엇입니까? 자세한 내용은 [이 기사](https://stackoverflow.com/questions/13669252/what-is-key-lambda/13669294) 를 참조하십시오."
      ]
    },
    {
      "cell_type": "markdown",
      "metadata": {
        "id": "oQKy_OTuh1KX"
      },
      "source": [
        "위의 상위 20개 단어를 참조하십시오. 무엇을 알 수 있습니까?\n"
      ]
    },
    {
      "cell_type": "markdown",
      "metadata": {
        "id": "aRQQMuQeh1KX"
      },
      "source": [
        "### 특성 선택\n",
        "가장 일반적인 20 단어는 트윗에 대한 정보가 거의 없습니다. 그것들은 모든 텍스트에서 자주 발견되는 일반적인 단어들뿐만 아니라 트위터 URL의 잔해입니다. 우리는 그것들을 '중요한 특성'이라고 보기 어렵습니다. 그렇다면 모델을 개선하기 위해서는 가장 빈번한 단어만 보는 것이 아니라 더 많은 것을 해야 할 것 같습니다.\n",
        "\n",
        "일부 문서에는 자주 등장하지만 모든 문서에는 없는 단어들을 찾아봐야 할 것 같습니다. 왜 이것이 합리적이라고 생각합니까?\n",
        "\n",
        "이것은 '총 빈도 역문서 빈도'(total frequency inverse document frequency, 약칭 tf-idf)로 알려진 알고리즘의 기본 개념입니다.\n",
        "\n",
        "TFIDF 수식은 다음과 같습니다: \n",
        "$$w_{i,j}=tf_{i,j}*log(\\frac{N}{df_i})$$  \n",
        "이 공식에서 $ i $는 단어 인덱서이고 $ j $는 문서 인덱서입니다.\n",
        "단어 가방에서 각 행은 문서인 반면, 각 열은 해당 문서에 있는 단어의 빈도입니다. 이는 이미 tfidf($tf_{i,j}$)의 '항 빈도' 부분입니다.\n",
        "\n",
        "### 역문서 빈도\n",
        "\n",
        "이제 다음과 같은 방식으로 이해할 수 있는 역 문서 빈도를 계산하려고합니다: 각 단어에 대해 나타나는 문서의 수를 계산한 다음 해당 숫자의 역 로그를 가져옵니다.\n",
        "\n",
        "idf 벡터를 두 부분으로 구성합니다.\n",
        "1. 먼저 각 단어에 대한 단어 빈도를 만듭니다. \n",
        "2. 다음 문서(N)를 단어 빈도로 나누고 결과 로그를 취합니다.\n",
        "\n",
        "획득 단계에서 우리가 한 일을 기억하십니까?"
      ]
    },
    {
      "cell_type": "code",
      "execution_count": null,
      "metadata": {
        "id": "cv8gQ1gKh1KX"
      },
      "outputs": [],
      "source": [
        "# 트윗 수(numdocs)와 토큰/워드 수(numwords)를 나타내는 변수 2개 초기화\n",
        "numdocs, numwords = np.shape(bag_o)\n",
        "\n",
        "# 위와 같이 TFIDF 수식으로 변경\n",
        "N = numdocs\n",
        "word_frequency = np.empty(numwords)\n",
        "\n",
        "# 단어가 나타나는 문서 수를 계산\n",
        "for word in range(numwords):\n",
        "    word_frequency[word]=np.sum((bag_o[:,word]>0)) \n",
        "\n",
        "idf = np.log(N/word_frequency)"
      ]
    },
    {
      "cell_type": "code",
      "execution_count": null,
      "metadata": {
        "colab": {
          "base_uri": "https://localhost:8080/"
        },
        "id": "IdmO4Takh1KY",
        "outputId": "7d4a854a-af38-45fd-db00-b319048bb43f"
      },
      "outputs": [
        {
          "output_type": "execute_result",
          "data": {
            "text/plain": [
              "(500,)"
            ]
          },
          "metadata": {},
          "execution_count": 32
        }
      ],
      "source": [
        "idf.shape"
      ]
    },
    {
      "cell_type": "markdown",
      "metadata": {
        "id": "QJWT9438h1KY"
      },
      "source": [
        "이제 단어 가방(용어 빈도)을 idf와 함께 입력함으로써 tfidf를 완료하겠습니다."
      ]
    },
    {
      "cell_type": "code",
      "execution_count": null,
      "metadata": {
        "id": "SfaJhIlAh1KY"
      },
      "outputs": [],
      "source": [
        "# 초기화 tfidf 배열\n",
        "tfidf = np.empty([numdocs, numwords])\n",
        "\n",
        "# 트윗에서 반복, 용어 빈도(단어 가방으로 표시)를 idf로 곱합니다.\n",
        "for doc in range(numdocs):\n",
        "    tfidf[doc, :]=bag_o[doc, :]*idf"
      ]
    },
    {
      "cell_type": "code",
      "execution_count": null,
      "metadata": {
        "colab": {
          "base_uri": "https://localhost:8080/"
        },
        "id": "X_YD836Lh1KY",
        "outputId": "74296b16-3d79-492e-db1b-acd8b269ff8d"
      },
      "outputs": [
        {
          "output_type": "execute_result",
          "data": {
            "text/plain": [
              "(10860, 500)"
            ]
          },
          "metadata": {},
          "execution_count": 34
        }
      ],
      "source": [
        "tfidf.shape"
      ]
    },
    {
      "cell_type": "code",
      "execution_count": null,
      "metadata": {
        "scrolled": false,
        "colab": {
          "base_uri": "https://localhost:8080/"
        },
        "id": "XQq5UXW_h1KY",
        "outputId": "9c5a7ebd-a212-4eab-d06e-db94bddd7a42"
      },
      "outputs": [
        {
          "output_type": "stream",
          "name": "stdout",
          "text": [
            "[[0.         0.         0.         ... 0.         0.         0.        ]\n",
            " [0.         0.         0.         ... 0.         0.         0.        ]\n",
            " [0.         0.         0.         ... 0.         0.         0.        ]\n",
            " ...\n",
            " [0.56037575 0.64356806 0.74842242 ... 0.         0.         0.        ]\n",
            " [0.56037575 0.64356806 0.74842242 ... 0.         0.         0.        ]\n",
            " [0.         0.         0.         ... 0.         0.         0.        ]]\n"
          ]
        }
      ],
      "source": [
        "print (tfidf)"
      ]
    },
    {
      "cell_type": "markdown",
      "metadata": {
        "id": "mP6bAICOh1KY"
      },
      "source": [
        "tfidf 배열에 대해 어떻게 설명하시겠습니까? 그것은 10860개의 트윗에서 500개의 토큰 각각의 tfidf 값으로 만들어집니다."
      ]
    },
    {
      "cell_type": "markdown",
      "metadata": {
        "id": "YCGLjPrYh1KY"
      },
      "source": [
        "## 3. 기계 학습으로 모델을 훈련시킵니다.\n",
        "드디어 TFIDF 배열이 생겼으니 여러분의 모델을 훈련시키고 예측을 할 때입니다! 우리는 많은 기계 학습 모델을 제공하는 scikit learn 라이브러리를 사용할 것입니다. \n",
        "\n",
        "기계 학습이란 무엇인지 기억하십니까? 시스템이 명시적으로 프로그래밍되지 않아도 자동으로 학습 할 수있는 AI의 응용 프로그램입니다.\n",
        "\n",
        "이제 우리는 지도 학습을 사용할 것입니다. 이것이 무엇인지 기억하시나요?\n",
        "이것은 훈련 세트가 주어지면 특정 시스템을 예측하는 모델을 만들 수 있게 해주는 학습 유형입니다. \n",
        "우리는 텍스트가 재난에 대한 뉴스와 관련이 있는지 여부를 예측하려고 합니다. 이미 트위터에서 텍스트 데이터를 다운로드했으며 데이터에 여러 레이블을 붙였습니다.'relevant', 'not relevant', 'can't decide' 등이 있으며, 이러한 데이터는 우리의 모델을 훈련시키는데 사용될 것입니다. 어떻게 할 수 있는지 알아보겠습니다.\n",
        "\n",
        "먼저 이 작업을 수행하는 데 필요한 라이브러리를 다운로드합니다. scikit learn 라이브러리에는 기계 학습 문제에 사용되는 수많은 유용한 기능이 포함되어 있습니다.\n",
        "\n",
        "## 라이브러리 가져오기"
      ]
    },
    {
      "cell_type": "code",
      "execution_count": null,
      "metadata": {
        "id": "TpAD09REh1KY"
      },
      "outputs": [],
      "source": [
        "from sklearn.linear_model import LogisticRegression #로지스틱 회귀 모형 가져오기\n",
        "from sklearn.model_selection import train_test_split # 데이터를 훈련 및 테스트 세트로 분할\n",
        "from sklearn.model_selection import GridSearchCV # 모델의 가장 적합한 매개 변수를 찾기 위해"
      ]
    },
    {
      "cell_type": "markdown",
      "metadata": {
        "id": "iCchIEtAh1KY"
      },
      "source": [
        "### 1단계. 데이터를 교육 및 테스트 세트로 분할\n",
        "\n",
        "모델을 교육하기 전에 데이터 세트를 2개로 분할합니다: 교육 세트, 테스트 세트\n",
        "\n",
        "우리는 교육 세트에서 모델을 훈련시킨 다음 테스트 세트로 훈련 단계에서 생성 된 모델을 테스트합니다. 이는 테스트가 모델에 '보이지 않는'/처리되지 않은 데이터 세트에서 수행되는지 확인하기 위함입니다.\n",
        "\n",
        "분할의 좋은 시작점은 훈련 세트에 데이터의 80%를, 테스트 세트에 데이터의 20%를 분할하는 것입니다.\n",
        "\n",
        "지금 해봅시다!"
      ]
    },
    {
      "cell_type": "code",
      "execution_count": null,
      "metadata": {
        "id": "RMYdA9l1h1KZ"
      },
      "outputs": [],
      "source": [
        "# X_all과 y_all을 교육 및 테스트 세트로 분할\n",
        "X_train,X_test,y_train,y_test = train_test_split(tfidf,df['relevance'].values,shuffle=True)"
      ]
    },
    {
      "cell_type": "markdown",
      "metadata": {
        "id": "RZE_n7Mbh1KZ"
      },
      "source": [
        "위의 코드에서 무슨 일이 일어나고 있는지 설명해 주시겠습니까? train_test_split 함수를 사용하여 tfidf 배열과 트윗의 'relevance' 값을 포함하는 초기 데이터 프레임의 일부를 분할하고 있습니다. [Shuffle=True](https://scikit-learn.org/stable/modules/generated/sklearn.model_selection.train_test_split.html) 는 무엇을 의미합니까? \n",
        "\n",
        "작업 중인 데이터 세트에 대해 자세히 알아보겠습니다. 아래 tfidf 및 df['relevance'] 를 출력하여 확인하십시오. 한편, [.value](https://www.geeksforgeeks.org/python-pandas-dataframe-values/) 가 무엇인지 알아보세요. "
      ]
    },
    {
      "cell_type": "code",
      "execution_count": null,
      "metadata": {
        "colab": {
          "base_uri": "https://localhost:8080/"
        },
        "id": "9yong1D9h1KZ",
        "outputId": "8f808c9c-110d-4294-abe8-1b428802c632"
      },
      "outputs": [
        {
          "output_type": "stream",
          "name": "stdout",
          "text": [
            "[[0.         0.         0.         ... 0.         0.         0.        ]\n",
            " [0.         0.         0.         ... 0.         0.         0.        ]\n",
            " [0.         0.         0.         ... 0.         0.         0.        ]\n",
            " ...\n",
            " [0.56037575 0.64356806 0.74842242 ... 0.         0.         0.        ]\n",
            " [0.56037575 0.64356806 0.74842242 ... 0.         0.         0.        ]\n",
            " [0.         0.         0.         ... 0.         0.         0.        ]]\n",
            "0        1\n",
            "1        1\n",
            "2        1\n",
            "3        1\n",
            "4        1\n",
            "        ..\n",
            "10871    1\n",
            "10872    1\n",
            "10873    1\n",
            "10874    1\n",
            "10875    1\n",
            "Name: relevance, Length: 10860, dtype: int64\n"
          ]
        }
      ],
      "source": [
        "#your code here아래 tfidf 및 df['relevance'] \n",
        "print(tfidf)\n",
        "print(df['relevance'])"
      ]
    },
    {
      "cell_type": "markdown",
      "metadata": {
        "id": "AGGFz5xBh1KZ"
      },
      "source": [
        "좋습니다! 데이터 세트를 이미 분할했으므로 현재 어떤 데이터가 있는지 살펴보겠습니다. X_train, X_test, y_train 및 y_test 모양을 출력합니다!"
      ]
    },
    {
      "cell_type": "code",
      "execution_count": null,
      "metadata": {
        "colab": {
          "base_uri": "https://localhost:8080/"
        },
        "id": "Irnj-Iswh1KZ",
        "outputId": "d13fe2bb-b186-4640-b404-25144b55b86a"
      },
      "outputs": [
        {
          "output_type": "stream",
          "name": "stdout",
          "text": [
            "(8145, 500)\n",
            "(2715, 500)\n",
            "(8145,)\n",
            "(2715,)\n"
          ]
        }
      ],
      "source": [
        "print(X_train.shape)\n",
        "print(X_test.shape)\n",
        "\n",
        "print(y_train.shape)\n",
        "print(y_test.shape)"
      ]
    },
    {
      "cell_type": "markdown",
      "metadata": {
        "id": "064ljehhh1KZ"
      },
      "source": [
        "x_train 및 x_test를 비교하고 y_train 및 y_test를 비교하십시오. 모양의 차이에 대해 무엇을 알 수 있습니까?"
      ]
    },
    {
      "cell_type": "code",
      "execution_count": null,
      "metadata": {
        "id": "syr6CwN6h1KZ"
      },
      "outputs": [],
      "source": [
        "#your answer here"
      ]
    },
    {
      "cell_type": "markdown",
      "metadata": {
        "id": "5AXNAk-2h1KZ"
      },
      "source": [
        "### 2단계. 모델 인스턴스(instance) 작성\n",
        "데이터를 분할한 후 모델의 인스턴스(예: 모델을 초기화하기만 하면 됩니다)를 만듭니다. 이 작업에서는 데이터를 분류할 때 유용한 로지스틱 회귀 분석기를 사용합니다. 자세한 내용은 [여기](https://towardsdatascience.com/understanding-logistic-regression-9b02c2aec102) 를 읽어보세요!"
      ]
    },
    {
      "cell_type": "code",
      "execution_count": null,
      "metadata": {
        "id": "P68uNUNlh1Ka"
      },
      "outputs": [],
      "source": [
        "# 모델 인스턴스(instance) 작성\n",
        "logreg = LogisticRegression(solver = 'liblinear')"
      ]
    },
    {
      "cell_type": "markdown",
      "metadata": {
        "id": "KrGsWPx8h1Ka"
      },
      "source": [
        "### 3단계. 데이터에 대한 모델 훈련, 데이터로부터 배운 정보 저장"
      ]
    },
    {
      "cell_type": "code",
      "execution_count": null,
      "metadata": {
        "scrolled": true,
        "colab": {
          "base_uri": "https://localhost:8080/"
        },
        "id": "enH6hgS1h1Ka",
        "outputId": "48634262-6fc6-4f12-8183-c565fdb476fb"
      },
      "outputs": [
        {
          "output_type": "execute_result",
          "data": {
            "text/plain": [
              "LogisticRegression(solver='liblinear')"
            ]
          },
          "metadata": {},
          "execution_count": 42
        }
      ],
      "source": [
        "# 학습 세트에 모델 적합\n",
        "logreg.fit(X_train,y_train)"
      ]
    },
    {
      "cell_type": "markdown",
      "metadata": {
        "id": "vI7HZecXh1Ka"
      },
      "source": [
        "지금은 위에 표시된 매개 변수를 이해하는 것에 대해 걱정하지 마십시오. 관련된 모든 매개변수를 모를 경우에도 로지스틱 회귀 분석기를 사용하여 프로젝트를 만들 수 있습니다."
      ]
    },
    {
      "cell_type": "markdown",
      "metadata": {
        "id": "9FGXjRxsh1Ka"
      },
      "source": [
        "## Step 4. 모델을 사용하여 테스트 데이터를 기반으로 관련성 예측"
      ]
    },
    {
      "cell_type": "code",
      "execution_count": null,
      "metadata": {
        "scrolled": true,
        "colab": {
          "base_uri": "https://localhost:8080/",
          "height": 206
        },
        "id": "4yWO6BUJh1Ka",
        "outputId": "09588ebd-ea06-486a-c714-7c8f41410739"
      },
      "outputs": [
        {
          "output_type": "execute_result",
          "data": {
            "text/plain": [
              "   Actual  Predict\n",
              "0       1        1\n",
              "1       0        0\n",
              "2       1        1\n",
              "3       1        1\n",
              "4       0        0"
            ],
            "text/html": [
              "\n",
              "  <div id=\"df-aedd84ef-5216-4f88-a5a7-726da29f7691\">\n",
              "    <div class=\"colab-df-container\">\n",
              "      <div>\n",
              "<style scoped>\n",
              "    .dataframe tbody tr th:only-of-type {\n",
              "        vertical-align: middle;\n",
              "    }\n",
              "\n",
              "    .dataframe tbody tr th {\n",
              "        vertical-align: top;\n",
              "    }\n",
              "\n",
              "    .dataframe thead th {\n",
              "        text-align: right;\n",
              "    }\n",
              "</style>\n",
              "<table border=\"1\" class=\"dataframe\">\n",
              "  <thead>\n",
              "    <tr style=\"text-align: right;\">\n",
              "      <th></th>\n",
              "      <th>Actual</th>\n",
              "      <th>Predict</th>\n",
              "    </tr>\n",
              "  </thead>\n",
              "  <tbody>\n",
              "    <tr>\n",
              "      <th>0</th>\n",
              "      <td>1</td>\n",
              "      <td>1</td>\n",
              "    </tr>\n",
              "    <tr>\n",
              "      <th>1</th>\n",
              "      <td>0</td>\n",
              "      <td>0</td>\n",
              "    </tr>\n",
              "    <tr>\n",
              "      <th>2</th>\n",
              "      <td>1</td>\n",
              "      <td>1</td>\n",
              "    </tr>\n",
              "    <tr>\n",
              "      <th>3</th>\n",
              "      <td>1</td>\n",
              "      <td>1</td>\n",
              "    </tr>\n",
              "    <tr>\n",
              "      <th>4</th>\n",
              "      <td>0</td>\n",
              "      <td>0</td>\n",
              "    </tr>\n",
              "  </tbody>\n",
              "</table>\n",
              "</div>\n",
              "      <button class=\"colab-df-convert\" onclick=\"convertToInteractive('df-aedd84ef-5216-4f88-a5a7-726da29f7691')\"\n",
              "              title=\"Convert this dataframe to an interactive table.\"\n",
              "              style=\"display:none;\">\n",
              "        \n",
              "  <svg xmlns=\"http://www.w3.org/2000/svg\" height=\"24px\"viewBox=\"0 0 24 24\"\n",
              "       width=\"24px\">\n",
              "    <path d=\"M0 0h24v24H0V0z\" fill=\"none\"/>\n",
              "    <path d=\"M18.56 5.44l.94 2.06.94-2.06 2.06-.94-2.06-.94-.94-2.06-.94 2.06-2.06.94zm-11 1L8.5 8.5l.94-2.06 2.06-.94-2.06-.94L8.5 2.5l-.94 2.06-2.06.94zm10 10l.94 2.06.94-2.06 2.06-.94-2.06-.94-.94-2.06-.94 2.06-2.06.94z\"/><path d=\"M17.41 7.96l-1.37-1.37c-.4-.4-.92-.59-1.43-.59-.52 0-1.04.2-1.43.59L10.3 9.45l-7.72 7.72c-.78.78-.78 2.05 0 2.83L4 21.41c.39.39.9.59 1.41.59.51 0 1.02-.2 1.41-.59l7.78-7.78 2.81-2.81c.8-.78.8-2.07 0-2.86zM5.41 20L4 18.59l7.72-7.72 1.47 1.35L5.41 20z\"/>\n",
              "  </svg>\n",
              "      </button>\n",
              "      \n",
              "  <style>\n",
              "    .colab-df-container {\n",
              "      display:flex;\n",
              "      flex-wrap:wrap;\n",
              "      gap: 12px;\n",
              "    }\n",
              "\n",
              "    .colab-df-convert {\n",
              "      background-color: #E8F0FE;\n",
              "      border: none;\n",
              "      border-radius: 50%;\n",
              "      cursor: pointer;\n",
              "      display: none;\n",
              "      fill: #1967D2;\n",
              "      height: 32px;\n",
              "      padding: 0 0 0 0;\n",
              "      width: 32px;\n",
              "    }\n",
              "\n",
              "    .colab-df-convert:hover {\n",
              "      background-color: #E2EBFA;\n",
              "      box-shadow: 0px 1px 2px rgba(60, 64, 67, 0.3), 0px 1px 3px 1px rgba(60, 64, 67, 0.15);\n",
              "      fill: #174EA6;\n",
              "    }\n",
              "\n",
              "    [theme=dark] .colab-df-convert {\n",
              "      background-color: #3B4455;\n",
              "      fill: #D2E3FC;\n",
              "    }\n",
              "\n",
              "    [theme=dark] .colab-df-convert:hover {\n",
              "      background-color: #434B5C;\n",
              "      box-shadow: 0px 1px 3px 1px rgba(0, 0, 0, 0.15);\n",
              "      filter: drop-shadow(0px 1px 2px rgba(0, 0, 0, 0.3));\n",
              "      fill: #FFFFFF;\n",
              "    }\n",
              "  </style>\n",
              "\n",
              "      <script>\n",
              "        const buttonEl =\n",
              "          document.querySelector('#df-aedd84ef-5216-4f88-a5a7-726da29f7691 button.colab-df-convert');\n",
              "        buttonEl.style.display =\n",
              "          google.colab.kernel.accessAllowed ? 'block' : 'none';\n",
              "\n",
              "        async function convertToInteractive(key) {\n",
              "          const element = document.querySelector('#df-aedd84ef-5216-4f88-a5a7-726da29f7691');\n",
              "          const dataTable =\n",
              "            await google.colab.kernel.invokeFunction('convertToInteractive',\n",
              "                                                     [key], {});\n",
              "          if (!dataTable) return;\n",
              "\n",
              "          const docLinkHtml = 'Like what you see? Visit the ' +\n",
              "            '<a target=\"_blank\" href=https://colab.research.google.com/notebooks/data_table.ipynb>data table notebook</a>'\n",
              "            + ' to learn more about interactive tables.';\n",
              "          element.innerHTML = '';\n",
              "          dataTable['output_type'] = 'display_data';\n",
              "          await google.colab.output.renderOutput(dataTable, element);\n",
              "          const docLink = document.createElement('div');\n",
              "          docLink.innerHTML = docLinkHtml;\n",
              "          element.appendChild(docLink);\n",
              "        }\n",
              "      </script>\n",
              "    </div>\n",
              "  </div>\n",
              "  "
            ]
          },
          "metadata": {},
          "execution_count": 53
        }
      ],
      "source": [
        "y_pred=logreg.predict(X_test)\n",
        "df_pred = pd.DataFrame(columns=['Actual', 'Predict'])\n",
        "df_pred['Actual'] = y_test\n",
        "df_pred['Predict'] = y_pred\n",
        "df_pred.head()"
      ]
    },
    {
      "cell_type": "markdown",
      "metadata": {
        "id": "zoZZY3kVh1Ka"
      },
      "source": [
        "y_pred는 무엇을 의미합니까?"
      ]
    },
    {
      "cell_type": "markdown",
      "metadata": {
        "id": "eG1a00mQh1Ka"
      },
      "source": [
        "이제 모델의 정확도 값을 찾아 모델 성능을 측정하겠습니다. 정확도는 다음과 같이 정의됩니다:\n",
        "\n",
        "올바른 예측의 분율 = 정확한 예측 / 총 데이터 포인트 수"
      ]
    },
    {
      "cell_type": "code",
      "execution_count": null,
      "metadata": {
        "scrolled": true,
        "colab": {
          "base_uri": "https://localhost:8080/"
        },
        "id": "inetBvP3h1Ka",
        "outputId": "2255756e-a496-43e0-8496-51a648f1a04b"
      },
      "outputs": [
        {
          "output_type": "stream",
          "name": "stdout",
          "text": [
            "0.7727440147329651\n",
            "Accuracy of logistic regression classifier on test set: 0.773\n"
          ]
        }
      ],
      "source": [
        "# 스코어 방법을 사용하여 모델의 정확성을 얻습니다\n",
        "score = logreg.score(X_test, y_test)\n",
        "print(score)\n",
        "\n",
        "print('Accuracy of logistic regression classifier on test set: {:.3f}'.format(score))"
      ]
    },
    {
      "cell_type": "markdown",
      "metadata": {
        "id": "jJI3MVzJh1Kb"
      },
      "source": [
        "대단합니다! 우리는 데이터를 수집하고, 처리하고, 교육 및 테스트 데이터로 나누고, 모델을 교육하고, 모델의 성능을 평가했습니다. 다음으로 이 모든 작업을 한 번에 수행할 수 있는 함수를 정의하겠습니다!"
      ]
    },
    {
      "cell_type": "markdown",
      "metadata": {
        "id": "V-_n9HdEh1Kb"
      },
      "source": [
        "### 모델 훈련 파이프라인\n",
        "\n",
        "이 기능은 다음과 같이 구성됩니다:\n",
        "1. 훈련되지 않은 모델, tfidf 배열 및 훈련 대상의 값을 가져온다.\n",
        "2. 무작위로 두 개를 나누어 학습과 테스트 세트를 만든다.\n",
        "3. 학습 세트에 모델을 맞춘다.\n",
        "4. 테스트 세트에 정확도 점수를 출력한다.\n",
        "5. 훈련된 모델을 반환한다."
      ]
    },
    {
      "cell_type": "code",
      "execution_count": null,
      "metadata": {
        "id": "QeTGcuf8h1Kb"
      },
      "outputs": [],
      "source": [
        "def classify(rf, X_all, y_all): # 훈련되지 않은 모델, tfidf 배열 및 훈련 대상의 값을 가져온다.\n",
        "    X_train,X_test,y_train,y_test = train_test_split(X_all,y_all,shuffle=True) # 무작위로 두 개를 나누어 학습과 테스트 세트를 만든다.\n",
        "    logreg.fit(X_train,y_train) # 학습 세트에 모델을 맞춘다.\n",
        "    print(rf.score(X_test,y_test)) # 테스트 세트에 정확도 점수를 출력한다.\n",
        "    return logreg # 훈련된 모델을 반환한다."
      ]
    },
    {
      "cell_type": "markdown",
      "metadata": {
        "id": "I26xWY5Vh1Kb"
      },
      "source": [
        "이제 데이터 세트에 함수를 적용할 수 있습니다."
      ]
    },
    {
      "cell_type": "code",
      "execution_count": null,
      "metadata": {
        "colab": {
          "base_uri": "https://localhost:8080/"
        },
        "id": "UJ_vT8ONh1Kb",
        "outputId": "d10c3a2a-6888-48c6-9229-9df5556dae78"
      },
      "outputs": [
        {
          "output_type": "stream",
          "name": "stdout",
          "text": [
            "0.7679558011049724\n"
          ]
        }
      ],
      "source": [
        "logreg = LogisticRegression(solver = 'newton-cg')\n",
        "#logreg = LogisticRegression()\n",
        "\n",
        "X_all = tfidf\n",
        "y_all = df['relevance'].values\n",
        "logreg = classify(logreg, X_all, y_all)"
      ]
    },
    {
      "cell_type": "markdown",
      "metadata": {
        "id": "MqN9DwTdh1Kb"
      },
      "source": [
        "### 매개 변수 조정(옵션)\n",
        "이 권한을 구현 한 경우 적어도 0.75의 테스트 점수가 있어야합니다. \n",
        "\n",
        "하이퍼 매개 변수를 조정하여 이 점수를 개선해 보겠습니다. 먼저 로지스틱 회귀 분석기의 매개 변수를 살펴보겠습니다. 매개 변수에 대한 자세한 내용은 [여기](https://scikit-learn.org/stable/modules/generated/sklearn.linear_model.LogisticRegression.html) 를 참조하십시오. 다시 말하지만, 만약 여러분이 지금 이 변수들을 이해하지 못한다고 스스로에게 스트레스를 주지 마세요. 그러한 결과는 더 많은 연습과 읽기를 통해 얻어질 수 있습니다."
      ]
    },
    {
      "cell_type": "code",
      "execution_count": null,
      "metadata": {
        "colab": {
          "base_uri": "https://localhost:8080/"
        },
        "id": "6vOme0QVh1Kb",
        "outputId": "02ec6cda-0a62-4cf1-dd5d-e2a7643e6e76"
      },
      "outputs": [
        {
          "output_type": "execute_result",
          "data": {
            "text/plain": [
              "LogisticRegression(solver='newton-cg')"
            ]
          },
          "metadata": {},
          "execution_count": 47
        }
      ],
      "source": [
        "logreg"
      ]
    },
    {
      "cell_type": "markdown",
      "metadata": {
        "id": "VA1vpvPjh1Kb"
      },
      "source": [
        "매개 변수는 Scikit-Learn의 GridSearchCV를 사용하여 자동으로 조정할 수 있습니다. 이 함수는 테스트할 값이 있는 매개변수 사전뿐만 아니라 모델을 사용하며 각 매개변수 조합을 테스트하여 최상의 스코어에 대한 최적 조합을 찾습니다. [여기](https://scikit-learn.org/stable/modules/generated/sklearn.model_selection.GridSearchCV.html#sklearn.model_selection.GridSearchCV.) 에서 자세히 알아보세요."
      ]
    },
    {
      "cell_type": "code",
      "execution_count": null,
      "metadata": {
        "id": "fdc5w1l9h1Kb"
      },
      "outputs": [],
      "source": [
        "# 여기서 하이퍼 파라미터를 정의하십시오.\n",
        "parameters = {'C':[0.001, 0.01, 0.1, 1, 10], 'tol':[0.0001, 0.001, 0.01], 'max_iter':[100, 1000]}"
      ]
    },
    {
      "cell_type": "code",
      "execution_count": null,
      "metadata": {
        "id": "RQcEiGmIh1Kc"
      },
      "outputs": [],
      "source": [
        "clf = GridSearchCV(logreg, parameters, cv=3, return_train_score=True)"
      ]
    },
    {
      "cell_type": "code",
      "execution_count": null,
      "metadata": {
        "scrolled": true,
        "colab": {
          "base_uri": "https://localhost:8080/",
          "height": 398
        },
        "id": "ZVjR8Yech1Kc",
        "outputId": "662aba9e-ea85-4633-91f8-726a13c580ce"
      },
      "outputs": [
        {
          "output_type": "error",
          "ename": "KeyboardInterrupt",
          "evalue": "ignored",
          "traceback": [
            "\u001b[0;31m---------------------------------------------------------------------------\u001b[0m",
            "\u001b[0;31mKeyboardInterrupt\u001b[0m                         Traceback (most recent call last)",
            "\u001b[0;32m<ipython-input-50-c6c889cb7c16>\u001b[0m in \u001b[0;36m<module>\u001b[0;34m\u001b[0m\n\u001b[0;32m----> 1\u001b[0;31m \u001b[0mclf\u001b[0m\u001b[0;34m.\u001b[0m\u001b[0mfit\u001b[0m\u001b[0;34m(\u001b[0m\u001b[0mX_all\u001b[0m\u001b[0;34m,\u001b[0m \u001b[0my_all\u001b[0m\u001b[0;34m)\u001b[0m\u001b[0;34m\u001b[0m\u001b[0;34m\u001b[0m\u001b[0m\n\u001b[0m",
            "\u001b[0;32m/usr/local/lib/python3.7/dist-packages/sklearn/model_selection/_search.py\u001b[0m in \u001b[0;36mfit\u001b[0;34m(self, X, y, groups, **fit_params)\u001b[0m\n\u001b[1;32m    889\u001b[0m                 \u001b[0;32mreturn\u001b[0m \u001b[0mresults\u001b[0m\u001b[0;34m\u001b[0m\u001b[0;34m\u001b[0m\u001b[0m\n\u001b[1;32m    890\u001b[0m \u001b[0;34m\u001b[0m\u001b[0m\n\u001b[0;32m--> 891\u001b[0;31m             \u001b[0mself\u001b[0m\u001b[0;34m.\u001b[0m\u001b[0m_run_search\u001b[0m\u001b[0;34m(\u001b[0m\u001b[0mevaluate_candidates\u001b[0m\u001b[0;34m)\u001b[0m\u001b[0;34m\u001b[0m\u001b[0;34m\u001b[0m\u001b[0m\n\u001b[0m\u001b[1;32m    892\u001b[0m \u001b[0;34m\u001b[0m\u001b[0m\n\u001b[1;32m    893\u001b[0m             \u001b[0;31m# multimetric is determined here because in the case of a callable\u001b[0m\u001b[0;34m\u001b[0m\u001b[0;34m\u001b[0m\u001b[0;34m\u001b[0m\u001b[0m\n",
            "\u001b[0;32m/usr/local/lib/python3.7/dist-packages/sklearn/model_selection/_search.py\u001b[0m in \u001b[0;36m_run_search\u001b[0;34m(self, evaluate_candidates)\u001b[0m\n\u001b[1;32m   1390\u001b[0m     \u001b[0;32mdef\u001b[0m \u001b[0m_run_search\u001b[0m\u001b[0;34m(\u001b[0m\u001b[0mself\u001b[0m\u001b[0;34m,\u001b[0m \u001b[0mevaluate_candidates\u001b[0m\u001b[0;34m)\u001b[0m\u001b[0;34m:\u001b[0m\u001b[0;34m\u001b[0m\u001b[0;34m\u001b[0m\u001b[0m\n\u001b[1;32m   1391\u001b[0m         \u001b[0;34m\"\"\"Search all candidates in param_grid\"\"\"\u001b[0m\u001b[0;34m\u001b[0m\u001b[0;34m\u001b[0m\u001b[0m\n\u001b[0;32m-> 1392\u001b[0;31m         \u001b[0mevaluate_candidates\u001b[0m\u001b[0;34m(\u001b[0m\u001b[0mParameterGrid\u001b[0m\u001b[0;34m(\u001b[0m\u001b[0mself\u001b[0m\u001b[0;34m.\u001b[0m\u001b[0mparam_grid\u001b[0m\u001b[0;34m)\u001b[0m\u001b[0;34m)\u001b[0m\u001b[0;34m\u001b[0m\u001b[0;34m\u001b[0m\u001b[0m\n\u001b[0m\u001b[1;32m   1393\u001b[0m \u001b[0;34m\u001b[0m\u001b[0m\n\u001b[1;32m   1394\u001b[0m \u001b[0;34m\u001b[0m\u001b[0m\n",
            "\u001b[0;32m/usr/local/lib/python3.7/dist-packages/sklearn/model_selection/_search.py\u001b[0m in \u001b[0;36mevaluate_candidates\u001b[0;34m(candidate_params, cv, more_results)\u001b[0m\n\u001b[1;32m    849\u001b[0m                     )\n\u001b[1;32m    850\u001b[0m                     for (cand_idx, parameters), (split_idx, (train, test)) in product(\n\u001b[0;32m--> 851\u001b[0;31m                         \u001b[0menumerate\u001b[0m\u001b[0;34m(\u001b[0m\u001b[0mcandidate_params\u001b[0m\u001b[0;34m)\u001b[0m\u001b[0;34m,\u001b[0m \u001b[0menumerate\u001b[0m\u001b[0;34m(\u001b[0m\u001b[0mcv\u001b[0m\u001b[0;34m.\u001b[0m\u001b[0msplit\u001b[0m\u001b[0;34m(\u001b[0m\u001b[0mX\u001b[0m\u001b[0;34m,\u001b[0m \u001b[0my\u001b[0m\u001b[0;34m,\u001b[0m \u001b[0mgroups\u001b[0m\u001b[0;34m)\u001b[0m\u001b[0;34m)\u001b[0m\u001b[0;34m\u001b[0m\u001b[0;34m\u001b[0m\u001b[0m\n\u001b[0m\u001b[1;32m    852\u001b[0m                     )\n\u001b[1;32m    853\u001b[0m                 )\n",
            "\u001b[0;32m/usr/local/lib/python3.7/dist-packages/joblib/parallel.py\u001b[0m in \u001b[0;36m__call__\u001b[0;34m(self, iterable)\u001b[0m\n\u001b[1;32m   1086\u001b[0m                 \u001b[0mself\u001b[0m\u001b[0;34m.\u001b[0m\u001b[0m_iterating\u001b[0m \u001b[0;34m=\u001b[0m \u001b[0mself\u001b[0m\u001b[0;34m.\u001b[0m\u001b[0m_original_iterator\u001b[0m \u001b[0;32mis\u001b[0m \u001b[0;32mnot\u001b[0m \u001b[0;32mNone\u001b[0m\u001b[0;34m\u001b[0m\u001b[0;34m\u001b[0m\u001b[0m\n\u001b[1;32m   1087\u001b[0m \u001b[0;34m\u001b[0m\u001b[0m\n\u001b[0;32m-> 1088\u001b[0;31m             \u001b[0;32mwhile\u001b[0m \u001b[0mself\u001b[0m\u001b[0;34m.\u001b[0m\u001b[0mdispatch_one_batch\u001b[0m\u001b[0;34m(\u001b[0m\u001b[0miterator\u001b[0m\u001b[0;34m)\u001b[0m\u001b[0;34m:\u001b[0m\u001b[0;34m\u001b[0m\u001b[0;34m\u001b[0m\u001b[0m\n\u001b[0m\u001b[1;32m   1089\u001b[0m                 \u001b[0;32mpass\u001b[0m\u001b[0;34m\u001b[0m\u001b[0;34m\u001b[0m\u001b[0m\n\u001b[1;32m   1090\u001b[0m \u001b[0;34m\u001b[0m\u001b[0m\n",
            "\u001b[0;32m/usr/local/lib/python3.7/dist-packages/joblib/parallel.py\u001b[0m in \u001b[0;36mdispatch_one_batch\u001b[0;34m(self, iterator)\u001b[0m\n\u001b[1;32m    899\u001b[0m                 \u001b[0;32mreturn\u001b[0m \u001b[0;32mFalse\u001b[0m\u001b[0;34m\u001b[0m\u001b[0;34m\u001b[0m\u001b[0m\n\u001b[1;32m    900\u001b[0m             \u001b[0;32melse\u001b[0m\u001b[0;34m:\u001b[0m\u001b[0;34m\u001b[0m\u001b[0;34m\u001b[0m\u001b[0m\n\u001b[0;32m--> 901\u001b[0;31m                 \u001b[0mself\u001b[0m\u001b[0;34m.\u001b[0m\u001b[0m_dispatch\u001b[0m\u001b[0;34m(\u001b[0m\u001b[0mtasks\u001b[0m\u001b[0;34m)\u001b[0m\u001b[0;34m\u001b[0m\u001b[0;34m\u001b[0m\u001b[0m\n\u001b[0m\u001b[1;32m    902\u001b[0m                 \u001b[0;32mreturn\u001b[0m \u001b[0;32mTrue\u001b[0m\u001b[0;34m\u001b[0m\u001b[0;34m\u001b[0m\u001b[0m\n\u001b[1;32m    903\u001b[0m \u001b[0;34m\u001b[0m\u001b[0m\n",
            "\u001b[0;32m/usr/local/lib/python3.7/dist-packages/joblib/parallel.py\u001b[0m in \u001b[0;36m_dispatch\u001b[0;34m(self, batch)\u001b[0m\n\u001b[1;32m    817\u001b[0m         \u001b[0;32mwith\u001b[0m \u001b[0mself\u001b[0m\u001b[0;34m.\u001b[0m\u001b[0m_lock\u001b[0m\u001b[0;34m:\u001b[0m\u001b[0;34m\u001b[0m\u001b[0;34m\u001b[0m\u001b[0m\n\u001b[1;32m    818\u001b[0m             \u001b[0mjob_idx\u001b[0m \u001b[0;34m=\u001b[0m \u001b[0mlen\u001b[0m\u001b[0;34m(\u001b[0m\u001b[0mself\u001b[0m\u001b[0;34m.\u001b[0m\u001b[0m_jobs\u001b[0m\u001b[0;34m)\u001b[0m\u001b[0;34m\u001b[0m\u001b[0;34m\u001b[0m\u001b[0m\n\u001b[0;32m--> 819\u001b[0;31m             \u001b[0mjob\u001b[0m \u001b[0;34m=\u001b[0m \u001b[0mself\u001b[0m\u001b[0;34m.\u001b[0m\u001b[0m_backend\u001b[0m\u001b[0;34m.\u001b[0m\u001b[0mapply_async\u001b[0m\u001b[0;34m(\u001b[0m\u001b[0mbatch\u001b[0m\u001b[0;34m,\u001b[0m \u001b[0mcallback\u001b[0m\u001b[0;34m=\u001b[0m\u001b[0mcb\u001b[0m\u001b[0;34m)\u001b[0m\u001b[0;34m\u001b[0m\u001b[0;34m\u001b[0m\u001b[0m\n\u001b[0m\u001b[1;32m    820\u001b[0m             \u001b[0;31m# A job can complete so quickly than its callback is\u001b[0m\u001b[0;34m\u001b[0m\u001b[0;34m\u001b[0m\u001b[0;34m\u001b[0m\u001b[0m\n\u001b[1;32m    821\u001b[0m             \u001b[0;31m# called before we get here, causing self._jobs to\u001b[0m\u001b[0;34m\u001b[0m\u001b[0;34m\u001b[0m\u001b[0;34m\u001b[0m\u001b[0m\n",
            "\u001b[0;32m/usr/local/lib/python3.7/dist-packages/joblib/_parallel_backends.py\u001b[0m in \u001b[0;36mapply_async\u001b[0;34m(self, func, callback)\u001b[0m\n\u001b[1;32m    206\u001b[0m     \u001b[0;32mdef\u001b[0m \u001b[0mapply_async\u001b[0m\u001b[0;34m(\u001b[0m\u001b[0mself\u001b[0m\u001b[0;34m,\u001b[0m \u001b[0mfunc\u001b[0m\u001b[0;34m,\u001b[0m \u001b[0mcallback\u001b[0m\u001b[0;34m=\u001b[0m\u001b[0;32mNone\u001b[0m\u001b[0;34m)\u001b[0m\u001b[0;34m:\u001b[0m\u001b[0;34m\u001b[0m\u001b[0;34m\u001b[0m\u001b[0m\n\u001b[1;32m    207\u001b[0m         \u001b[0;34m\"\"\"Schedule a func to be run\"\"\"\u001b[0m\u001b[0;34m\u001b[0m\u001b[0;34m\u001b[0m\u001b[0m\n\u001b[0;32m--> 208\u001b[0;31m         \u001b[0mresult\u001b[0m \u001b[0;34m=\u001b[0m \u001b[0mImmediateResult\u001b[0m\u001b[0;34m(\u001b[0m\u001b[0mfunc\u001b[0m\u001b[0;34m)\u001b[0m\u001b[0;34m\u001b[0m\u001b[0;34m\u001b[0m\u001b[0m\n\u001b[0m\u001b[1;32m    209\u001b[0m         \u001b[0;32mif\u001b[0m \u001b[0mcallback\u001b[0m\u001b[0;34m:\u001b[0m\u001b[0;34m\u001b[0m\u001b[0;34m\u001b[0m\u001b[0m\n\u001b[1;32m    210\u001b[0m             \u001b[0mcallback\u001b[0m\u001b[0;34m(\u001b[0m\u001b[0mresult\u001b[0m\u001b[0;34m)\u001b[0m\u001b[0;34m\u001b[0m\u001b[0;34m\u001b[0m\u001b[0m\n",
            "\u001b[0;32m/usr/local/lib/python3.7/dist-packages/joblib/_parallel_backends.py\u001b[0m in \u001b[0;36m__init__\u001b[0;34m(self, batch)\u001b[0m\n\u001b[1;32m    595\u001b[0m         \u001b[0;31m# Don't delay the application, to avoid keeping the input\u001b[0m\u001b[0;34m\u001b[0m\u001b[0;34m\u001b[0m\u001b[0;34m\u001b[0m\u001b[0m\n\u001b[1;32m    596\u001b[0m         \u001b[0;31m# arguments in memory\u001b[0m\u001b[0;34m\u001b[0m\u001b[0;34m\u001b[0m\u001b[0;34m\u001b[0m\u001b[0m\n\u001b[0;32m--> 597\u001b[0;31m         \u001b[0mself\u001b[0m\u001b[0;34m.\u001b[0m\u001b[0mresults\u001b[0m \u001b[0;34m=\u001b[0m \u001b[0mbatch\u001b[0m\u001b[0;34m(\u001b[0m\u001b[0;34m)\u001b[0m\u001b[0;34m\u001b[0m\u001b[0;34m\u001b[0m\u001b[0m\n\u001b[0m\u001b[1;32m    598\u001b[0m \u001b[0;34m\u001b[0m\u001b[0m\n\u001b[1;32m    599\u001b[0m     \u001b[0;32mdef\u001b[0m \u001b[0mget\u001b[0m\u001b[0;34m(\u001b[0m\u001b[0mself\u001b[0m\u001b[0;34m)\u001b[0m\u001b[0;34m:\u001b[0m\u001b[0;34m\u001b[0m\u001b[0;34m\u001b[0m\u001b[0m\n",
            "\u001b[0;32m/usr/local/lib/python3.7/dist-packages/joblib/parallel.py\u001b[0m in \u001b[0;36m__call__\u001b[0;34m(self)\u001b[0m\n\u001b[1;32m    287\u001b[0m         \u001b[0;32mwith\u001b[0m \u001b[0mparallel_backend\u001b[0m\u001b[0;34m(\u001b[0m\u001b[0mself\u001b[0m\u001b[0;34m.\u001b[0m\u001b[0m_backend\u001b[0m\u001b[0;34m,\u001b[0m \u001b[0mn_jobs\u001b[0m\u001b[0;34m=\u001b[0m\u001b[0mself\u001b[0m\u001b[0;34m.\u001b[0m\u001b[0m_n_jobs\u001b[0m\u001b[0;34m)\u001b[0m\u001b[0;34m:\u001b[0m\u001b[0;34m\u001b[0m\u001b[0;34m\u001b[0m\u001b[0m\n\u001b[1;32m    288\u001b[0m             return [func(*args, **kwargs)\n\u001b[0;32m--> 289\u001b[0;31m                     for func, args, kwargs in self.items]\n\u001b[0m\u001b[1;32m    290\u001b[0m \u001b[0;34m\u001b[0m\u001b[0m\n\u001b[1;32m    291\u001b[0m     \u001b[0;32mdef\u001b[0m \u001b[0m__reduce__\u001b[0m\u001b[0;34m(\u001b[0m\u001b[0mself\u001b[0m\u001b[0;34m)\u001b[0m\u001b[0;34m:\u001b[0m\u001b[0;34m\u001b[0m\u001b[0;34m\u001b[0m\u001b[0m\n",
            "\u001b[0;32m/usr/local/lib/python3.7/dist-packages/joblib/parallel.py\u001b[0m in \u001b[0;36m<listcomp>\u001b[0;34m(.0)\u001b[0m\n\u001b[1;32m    287\u001b[0m         \u001b[0;32mwith\u001b[0m \u001b[0mparallel_backend\u001b[0m\u001b[0;34m(\u001b[0m\u001b[0mself\u001b[0m\u001b[0;34m.\u001b[0m\u001b[0m_backend\u001b[0m\u001b[0;34m,\u001b[0m \u001b[0mn_jobs\u001b[0m\u001b[0;34m=\u001b[0m\u001b[0mself\u001b[0m\u001b[0;34m.\u001b[0m\u001b[0m_n_jobs\u001b[0m\u001b[0;34m)\u001b[0m\u001b[0;34m:\u001b[0m\u001b[0;34m\u001b[0m\u001b[0;34m\u001b[0m\u001b[0m\n\u001b[1;32m    288\u001b[0m             return [func(*args, **kwargs)\n\u001b[0;32m--> 289\u001b[0;31m                     for func, args, kwargs in self.items]\n\u001b[0m\u001b[1;32m    290\u001b[0m \u001b[0;34m\u001b[0m\u001b[0m\n\u001b[1;32m    291\u001b[0m     \u001b[0;32mdef\u001b[0m \u001b[0m__reduce__\u001b[0m\u001b[0;34m(\u001b[0m\u001b[0mself\u001b[0m\u001b[0;34m)\u001b[0m\u001b[0;34m:\u001b[0m\u001b[0;34m\u001b[0m\u001b[0;34m\u001b[0m\u001b[0m\n",
            "\u001b[0;32m/usr/local/lib/python3.7/dist-packages/sklearn/utils/fixes.py\u001b[0m in \u001b[0;36m__call__\u001b[0;34m(self, *args, **kwargs)\u001b[0m\n\u001b[1;32m    214\u001b[0m     \u001b[0;32mdef\u001b[0m \u001b[0m__call__\u001b[0m\u001b[0;34m(\u001b[0m\u001b[0mself\u001b[0m\u001b[0;34m,\u001b[0m \u001b[0;34m*\u001b[0m\u001b[0margs\u001b[0m\u001b[0;34m,\u001b[0m \u001b[0;34m**\u001b[0m\u001b[0mkwargs\u001b[0m\u001b[0;34m)\u001b[0m\u001b[0;34m:\u001b[0m\u001b[0;34m\u001b[0m\u001b[0;34m\u001b[0m\u001b[0m\n\u001b[1;32m    215\u001b[0m         \u001b[0;32mwith\u001b[0m \u001b[0mconfig_context\u001b[0m\u001b[0;34m(\u001b[0m\u001b[0;34m**\u001b[0m\u001b[0mself\u001b[0m\u001b[0;34m.\u001b[0m\u001b[0mconfig\u001b[0m\u001b[0;34m)\u001b[0m\u001b[0;34m:\u001b[0m\u001b[0;34m\u001b[0m\u001b[0;34m\u001b[0m\u001b[0m\n\u001b[0;32m--> 216\u001b[0;31m             \u001b[0;32mreturn\u001b[0m \u001b[0mself\u001b[0m\u001b[0;34m.\u001b[0m\u001b[0mfunction\u001b[0m\u001b[0;34m(\u001b[0m\u001b[0;34m*\u001b[0m\u001b[0margs\u001b[0m\u001b[0;34m,\u001b[0m \u001b[0;34m**\u001b[0m\u001b[0mkwargs\u001b[0m\u001b[0;34m)\u001b[0m\u001b[0;34m\u001b[0m\u001b[0;34m\u001b[0m\u001b[0m\n\u001b[0m\u001b[1;32m    217\u001b[0m \u001b[0;34m\u001b[0m\u001b[0m\n\u001b[1;32m    218\u001b[0m \u001b[0;34m\u001b[0m\u001b[0m\n",
            "\u001b[0;32m/usr/local/lib/python3.7/dist-packages/sklearn/model_selection/_validation.py\u001b[0m in \u001b[0;36m_fit_and_score\u001b[0;34m(estimator, X, y, scorer, train, test, verbose, parameters, fit_params, return_train_score, return_parameters, return_n_test_samples, return_times, return_estimator, split_progress, candidate_progress, error_score)\u001b[0m\n\u001b[1;32m    678\u001b[0m             \u001b[0mestimator\u001b[0m\u001b[0;34m.\u001b[0m\u001b[0mfit\u001b[0m\u001b[0;34m(\u001b[0m\u001b[0mX_train\u001b[0m\u001b[0;34m,\u001b[0m \u001b[0;34m**\u001b[0m\u001b[0mfit_params\u001b[0m\u001b[0;34m)\u001b[0m\u001b[0;34m\u001b[0m\u001b[0;34m\u001b[0m\u001b[0m\n\u001b[1;32m    679\u001b[0m         \u001b[0;32melse\u001b[0m\u001b[0;34m:\u001b[0m\u001b[0;34m\u001b[0m\u001b[0;34m\u001b[0m\u001b[0m\n\u001b[0;32m--> 680\u001b[0;31m             \u001b[0mestimator\u001b[0m\u001b[0;34m.\u001b[0m\u001b[0mfit\u001b[0m\u001b[0;34m(\u001b[0m\u001b[0mX_train\u001b[0m\u001b[0;34m,\u001b[0m \u001b[0my_train\u001b[0m\u001b[0;34m,\u001b[0m \u001b[0;34m**\u001b[0m\u001b[0mfit_params\u001b[0m\u001b[0;34m)\u001b[0m\u001b[0;34m\u001b[0m\u001b[0;34m\u001b[0m\u001b[0m\n\u001b[0m\u001b[1;32m    681\u001b[0m \u001b[0;34m\u001b[0m\u001b[0m\n\u001b[1;32m    682\u001b[0m     \u001b[0;32mexcept\u001b[0m \u001b[0mException\u001b[0m\u001b[0;34m:\u001b[0m\u001b[0;34m\u001b[0m\u001b[0;34m\u001b[0m\u001b[0m\n",
            "\u001b[0;32m/usr/local/lib/python3.7/dist-packages/sklearn/linear_model/_logistic.py\u001b[0m in \u001b[0;36mfit\u001b[0;34m(self, X, y, sample_weight)\u001b[0m\n\u001b[1;32m   1612\u001b[0m                 \u001b[0msample_weight\u001b[0m\u001b[0;34m=\u001b[0m\u001b[0msample_weight\u001b[0m\u001b[0;34m,\u001b[0m\u001b[0;34m\u001b[0m\u001b[0;34m\u001b[0m\u001b[0m\n\u001b[1;32m   1613\u001b[0m             )\n\u001b[0;32m-> 1614\u001b[0;31m             \u001b[0;32mfor\u001b[0m \u001b[0mclass_\u001b[0m\u001b[0;34m,\u001b[0m \u001b[0mwarm_start_coef_\u001b[0m \u001b[0;32min\u001b[0m \u001b[0mzip\u001b[0m\u001b[0;34m(\u001b[0m\u001b[0mclasses_\u001b[0m\u001b[0;34m,\u001b[0m \u001b[0mwarm_start_coef\u001b[0m\u001b[0;34m)\u001b[0m\u001b[0;34m\u001b[0m\u001b[0;34m\u001b[0m\u001b[0m\n\u001b[0m\u001b[1;32m   1615\u001b[0m         )\n\u001b[1;32m   1616\u001b[0m \u001b[0;34m\u001b[0m\u001b[0m\n",
            "\u001b[0;32m/usr/local/lib/python3.7/dist-packages/joblib/parallel.py\u001b[0m in \u001b[0;36m__call__\u001b[0;34m(self, iterable)\u001b[0m\n\u001b[1;32m   1083\u001b[0m             \u001b[0;31m# remaining jobs.\u001b[0m\u001b[0;34m\u001b[0m\u001b[0;34m\u001b[0m\u001b[0;34m\u001b[0m\u001b[0m\n\u001b[1;32m   1084\u001b[0m             \u001b[0mself\u001b[0m\u001b[0;34m.\u001b[0m\u001b[0m_iterating\u001b[0m \u001b[0;34m=\u001b[0m \u001b[0;32mFalse\u001b[0m\u001b[0;34m\u001b[0m\u001b[0;34m\u001b[0m\u001b[0m\n\u001b[0;32m-> 1085\u001b[0;31m             \u001b[0;32mif\u001b[0m \u001b[0mself\u001b[0m\u001b[0;34m.\u001b[0m\u001b[0mdispatch_one_batch\u001b[0m\u001b[0;34m(\u001b[0m\u001b[0miterator\u001b[0m\u001b[0;34m)\u001b[0m\u001b[0;34m:\u001b[0m\u001b[0;34m\u001b[0m\u001b[0;34m\u001b[0m\u001b[0m\n\u001b[0m\u001b[1;32m   1086\u001b[0m                 \u001b[0mself\u001b[0m\u001b[0;34m.\u001b[0m\u001b[0m_iterating\u001b[0m \u001b[0;34m=\u001b[0m \u001b[0mself\u001b[0m\u001b[0;34m.\u001b[0m\u001b[0m_original_iterator\u001b[0m \u001b[0;32mis\u001b[0m \u001b[0;32mnot\u001b[0m \u001b[0;32mNone\u001b[0m\u001b[0;34m\u001b[0m\u001b[0;34m\u001b[0m\u001b[0m\n\u001b[1;32m   1087\u001b[0m \u001b[0;34m\u001b[0m\u001b[0m\n",
            "\u001b[0;32m/usr/local/lib/python3.7/dist-packages/joblib/parallel.py\u001b[0m in \u001b[0;36mdispatch_one_batch\u001b[0;34m(self, iterator)\u001b[0m\n\u001b[1;32m    899\u001b[0m                 \u001b[0;32mreturn\u001b[0m \u001b[0;32mFalse\u001b[0m\u001b[0;34m\u001b[0m\u001b[0;34m\u001b[0m\u001b[0m\n\u001b[1;32m    900\u001b[0m             \u001b[0;32melse\u001b[0m\u001b[0;34m:\u001b[0m\u001b[0;34m\u001b[0m\u001b[0;34m\u001b[0m\u001b[0m\n\u001b[0;32m--> 901\u001b[0;31m                 \u001b[0mself\u001b[0m\u001b[0;34m.\u001b[0m\u001b[0m_dispatch\u001b[0m\u001b[0;34m(\u001b[0m\u001b[0mtasks\u001b[0m\u001b[0;34m)\u001b[0m\u001b[0;34m\u001b[0m\u001b[0;34m\u001b[0m\u001b[0m\n\u001b[0m\u001b[1;32m    902\u001b[0m                 \u001b[0;32mreturn\u001b[0m \u001b[0;32mTrue\u001b[0m\u001b[0;34m\u001b[0m\u001b[0;34m\u001b[0m\u001b[0m\n\u001b[1;32m    903\u001b[0m \u001b[0;34m\u001b[0m\u001b[0m\n",
            "\u001b[0;32m/usr/local/lib/python3.7/dist-packages/joblib/parallel.py\u001b[0m in \u001b[0;36m_dispatch\u001b[0;34m(self, batch)\u001b[0m\n\u001b[1;32m    817\u001b[0m         \u001b[0;32mwith\u001b[0m \u001b[0mself\u001b[0m\u001b[0;34m.\u001b[0m\u001b[0m_lock\u001b[0m\u001b[0;34m:\u001b[0m\u001b[0;34m\u001b[0m\u001b[0;34m\u001b[0m\u001b[0m\n\u001b[1;32m    818\u001b[0m             \u001b[0mjob_idx\u001b[0m \u001b[0;34m=\u001b[0m \u001b[0mlen\u001b[0m\u001b[0;34m(\u001b[0m\u001b[0mself\u001b[0m\u001b[0;34m.\u001b[0m\u001b[0m_jobs\u001b[0m\u001b[0;34m)\u001b[0m\u001b[0;34m\u001b[0m\u001b[0;34m\u001b[0m\u001b[0m\n\u001b[0;32m--> 819\u001b[0;31m             \u001b[0mjob\u001b[0m \u001b[0;34m=\u001b[0m \u001b[0mself\u001b[0m\u001b[0;34m.\u001b[0m\u001b[0m_backend\u001b[0m\u001b[0;34m.\u001b[0m\u001b[0mapply_async\u001b[0m\u001b[0;34m(\u001b[0m\u001b[0mbatch\u001b[0m\u001b[0;34m,\u001b[0m \u001b[0mcallback\u001b[0m\u001b[0;34m=\u001b[0m\u001b[0mcb\u001b[0m\u001b[0;34m)\u001b[0m\u001b[0;34m\u001b[0m\u001b[0;34m\u001b[0m\u001b[0m\n\u001b[0m\u001b[1;32m    820\u001b[0m             \u001b[0;31m# A job can complete so quickly than its callback is\u001b[0m\u001b[0;34m\u001b[0m\u001b[0;34m\u001b[0m\u001b[0;34m\u001b[0m\u001b[0m\n\u001b[1;32m    821\u001b[0m             \u001b[0;31m# called before we get here, causing self._jobs to\u001b[0m\u001b[0;34m\u001b[0m\u001b[0;34m\u001b[0m\u001b[0;34m\u001b[0m\u001b[0m\n",
            "\u001b[0;32m/usr/local/lib/python3.7/dist-packages/joblib/_parallel_backends.py\u001b[0m in \u001b[0;36mapply_async\u001b[0;34m(self, func, callback)\u001b[0m\n\u001b[1;32m    206\u001b[0m     \u001b[0;32mdef\u001b[0m \u001b[0mapply_async\u001b[0m\u001b[0;34m(\u001b[0m\u001b[0mself\u001b[0m\u001b[0;34m,\u001b[0m \u001b[0mfunc\u001b[0m\u001b[0;34m,\u001b[0m \u001b[0mcallback\u001b[0m\u001b[0;34m=\u001b[0m\u001b[0;32mNone\u001b[0m\u001b[0;34m)\u001b[0m\u001b[0;34m:\u001b[0m\u001b[0;34m\u001b[0m\u001b[0;34m\u001b[0m\u001b[0m\n\u001b[1;32m    207\u001b[0m         \u001b[0;34m\"\"\"Schedule a func to be run\"\"\"\u001b[0m\u001b[0;34m\u001b[0m\u001b[0;34m\u001b[0m\u001b[0m\n\u001b[0;32m--> 208\u001b[0;31m         \u001b[0mresult\u001b[0m \u001b[0;34m=\u001b[0m \u001b[0mImmediateResult\u001b[0m\u001b[0;34m(\u001b[0m\u001b[0mfunc\u001b[0m\u001b[0;34m)\u001b[0m\u001b[0;34m\u001b[0m\u001b[0;34m\u001b[0m\u001b[0m\n\u001b[0m\u001b[1;32m    209\u001b[0m         \u001b[0;32mif\u001b[0m \u001b[0mcallback\u001b[0m\u001b[0;34m:\u001b[0m\u001b[0;34m\u001b[0m\u001b[0;34m\u001b[0m\u001b[0m\n\u001b[1;32m    210\u001b[0m             \u001b[0mcallback\u001b[0m\u001b[0;34m(\u001b[0m\u001b[0mresult\u001b[0m\u001b[0;34m)\u001b[0m\u001b[0;34m\u001b[0m\u001b[0;34m\u001b[0m\u001b[0m\n",
            "\u001b[0;32m/usr/local/lib/python3.7/dist-packages/joblib/_parallel_backends.py\u001b[0m in \u001b[0;36m__init__\u001b[0;34m(self, batch)\u001b[0m\n\u001b[1;32m    595\u001b[0m         \u001b[0;31m# Don't delay the application, to avoid keeping the input\u001b[0m\u001b[0;34m\u001b[0m\u001b[0;34m\u001b[0m\u001b[0;34m\u001b[0m\u001b[0m\n\u001b[1;32m    596\u001b[0m         \u001b[0;31m# arguments in memory\u001b[0m\u001b[0;34m\u001b[0m\u001b[0;34m\u001b[0m\u001b[0;34m\u001b[0m\u001b[0m\n\u001b[0;32m--> 597\u001b[0;31m         \u001b[0mself\u001b[0m\u001b[0;34m.\u001b[0m\u001b[0mresults\u001b[0m \u001b[0;34m=\u001b[0m \u001b[0mbatch\u001b[0m\u001b[0;34m(\u001b[0m\u001b[0;34m)\u001b[0m\u001b[0;34m\u001b[0m\u001b[0;34m\u001b[0m\u001b[0m\n\u001b[0m\u001b[1;32m    598\u001b[0m \u001b[0;34m\u001b[0m\u001b[0m\n\u001b[1;32m    599\u001b[0m     \u001b[0;32mdef\u001b[0m \u001b[0mget\u001b[0m\u001b[0;34m(\u001b[0m\u001b[0mself\u001b[0m\u001b[0;34m)\u001b[0m\u001b[0;34m:\u001b[0m\u001b[0;34m\u001b[0m\u001b[0;34m\u001b[0m\u001b[0m\n",
            "\u001b[0;32m/usr/local/lib/python3.7/dist-packages/joblib/parallel.py\u001b[0m in \u001b[0;36m__call__\u001b[0;34m(self)\u001b[0m\n\u001b[1;32m    287\u001b[0m         \u001b[0;32mwith\u001b[0m \u001b[0mparallel_backend\u001b[0m\u001b[0;34m(\u001b[0m\u001b[0mself\u001b[0m\u001b[0;34m.\u001b[0m\u001b[0m_backend\u001b[0m\u001b[0;34m,\u001b[0m \u001b[0mn_jobs\u001b[0m\u001b[0;34m=\u001b[0m\u001b[0mself\u001b[0m\u001b[0;34m.\u001b[0m\u001b[0m_n_jobs\u001b[0m\u001b[0;34m)\u001b[0m\u001b[0;34m:\u001b[0m\u001b[0;34m\u001b[0m\u001b[0;34m\u001b[0m\u001b[0m\n\u001b[1;32m    288\u001b[0m             return [func(*args, **kwargs)\n\u001b[0;32m--> 289\u001b[0;31m                     for func, args, kwargs in self.items]\n\u001b[0m\u001b[1;32m    290\u001b[0m \u001b[0;34m\u001b[0m\u001b[0m\n\u001b[1;32m    291\u001b[0m     \u001b[0;32mdef\u001b[0m \u001b[0m__reduce__\u001b[0m\u001b[0;34m(\u001b[0m\u001b[0mself\u001b[0m\u001b[0;34m)\u001b[0m\u001b[0;34m:\u001b[0m\u001b[0;34m\u001b[0m\u001b[0;34m\u001b[0m\u001b[0m\n",
            "\u001b[0;32m/usr/local/lib/python3.7/dist-packages/joblib/parallel.py\u001b[0m in \u001b[0;36m<listcomp>\u001b[0;34m(.0)\u001b[0m\n\u001b[1;32m    287\u001b[0m         \u001b[0;32mwith\u001b[0m \u001b[0mparallel_backend\u001b[0m\u001b[0;34m(\u001b[0m\u001b[0mself\u001b[0m\u001b[0;34m.\u001b[0m\u001b[0m_backend\u001b[0m\u001b[0;34m,\u001b[0m \u001b[0mn_jobs\u001b[0m\u001b[0;34m=\u001b[0m\u001b[0mself\u001b[0m\u001b[0;34m.\u001b[0m\u001b[0m_n_jobs\u001b[0m\u001b[0;34m)\u001b[0m\u001b[0;34m:\u001b[0m\u001b[0;34m\u001b[0m\u001b[0;34m\u001b[0m\u001b[0m\n\u001b[1;32m    288\u001b[0m             return [func(*args, **kwargs)\n\u001b[0;32m--> 289\u001b[0;31m                     for func, args, kwargs in self.items]\n\u001b[0m\u001b[1;32m    290\u001b[0m \u001b[0;34m\u001b[0m\u001b[0m\n\u001b[1;32m    291\u001b[0m     \u001b[0;32mdef\u001b[0m \u001b[0m__reduce__\u001b[0m\u001b[0;34m(\u001b[0m\u001b[0mself\u001b[0m\u001b[0;34m)\u001b[0m\u001b[0;34m:\u001b[0m\u001b[0;34m\u001b[0m\u001b[0;34m\u001b[0m\u001b[0m\n",
            "\u001b[0;32m/usr/local/lib/python3.7/dist-packages/sklearn/utils/fixes.py\u001b[0m in \u001b[0;36m__call__\u001b[0;34m(self, *args, **kwargs)\u001b[0m\n\u001b[1;32m    214\u001b[0m     \u001b[0;32mdef\u001b[0m \u001b[0m__call__\u001b[0m\u001b[0;34m(\u001b[0m\u001b[0mself\u001b[0m\u001b[0;34m,\u001b[0m \u001b[0;34m*\u001b[0m\u001b[0margs\u001b[0m\u001b[0;34m,\u001b[0m \u001b[0;34m**\u001b[0m\u001b[0mkwargs\u001b[0m\u001b[0;34m)\u001b[0m\u001b[0;34m:\u001b[0m\u001b[0;34m\u001b[0m\u001b[0;34m\u001b[0m\u001b[0m\n\u001b[1;32m    215\u001b[0m         \u001b[0;32mwith\u001b[0m \u001b[0mconfig_context\u001b[0m\u001b[0;34m(\u001b[0m\u001b[0;34m**\u001b[0m\u001b[0mself\u001b[0m\u001b[0;34m.\u001b[0m\u001b[0mconfig\u001b[0m\u001b[0;34m)\u001b[0m\u001b[0;34m:\u001b[0m\u001b[0;34m\u001b[0m\u001b[0;34m\u001b[0m\u001b[0m\n\u001b[0;32m--> 216\u001b[0;31m             \u001b[0;32mreturn\u001b[0m \u001b[0mself\u001b[0m\u001b[0;34m.\u001b[0m\u001b[0mfunction\u001b[0m\u001b[0;34m(\u001b[0m\u001b[0;34m*\u001b[0m\u001b[0margs\u001b[0m\u001b[0;34m,\u001b[0m \u001b[0;34m**\u001b[0m\u001b[0mkwargs\u001b[0m\u001b[0;34m)\u001b[0m\u001b[0;34m\u001b[0m\u001b[0;34m\u001b[0m\u001b[0m\n\u001b[0m\u001b[1;32m    217\u001b[0m \u001b[0;34m\u001b[0m\u001b[0m\n\u001b[1;32m    218\u001b[0m \u001b[0;34m\u001b[0m\u001b[0m\n",
            "\u001b[0;32m/usr/local/lib/python3.7/dist-packages/sklearn/linear_model/_logistic.py\u001b[0m in \u001b[0;36m_logistic_regression_path\u001b[0;34m(X, y, pos_class, Cs, fit_intercept, max_iter, tol, verbose, solver, coef, class_weight, dual, penalty, intercept_scaling, multi_class, random_state, check_input, max_squared_sum, sample_weight, l1_ratio)\u001b[0m\n\u001b[1;32m    822\u001b[0m             \u001b[0margs\u001b[0m \u001b[0;34m=\u001b[0m \u001b[0;34m(\u001b[0m\u001b[0mX\u001b[0m\u001b[0;34m,\u001b[0m \u001b[0mtarget\u001b[0m\u001b[0;34m,\u001b[0m \u001b[0;36m1.0\u001b[0m \u001b[0;34m/\u001b[0m \u001b[0mC\u001b[0m\u001b[0;34m,\u001b[0m \u001b[0msample_weight\u001b[0m\u001b[0;34m)\u001b[0m\u001b[0;34m\u001b[0m\u001b[0;34m\u001b[0m\u001b[0m\n\u001b[1;32m    823\u001b[0m             w0, n_iter_i = _newton_cg(\n\u001b[0;32m--> 824\u001b[0;31m                 \u001b[0mhess\u001b[0m\u001b[0;34m,\u001b[0m \u001b[0mfunc\u001b[0m\u001b[0;34m,\u001b[0m \u001b[0mgrad\u001b[0m\u001b[0;34m,\u001b[0m \u001b[0mw0\u001b[0m\u001b[0;34m,\u001b[0m \u001b[0margs\u001b[0m\u001b[0;34m=\u001b[0m\u001b[0margs\u001b[0m\u001b[0;34m,\u001b[0m \u001b[0mmaxiter\u001b[0m\u001b[0;34m=\u001b[0m\u001b[0mmax_iter\u001b[0m\u001b[0;34m,\u001b[0m \u001b[0mtol\u001b[0m\u001b[0;34m=\u001b[0m\u001b[0mtol\u001b[0m\u001b[0;34m\u001b[0m\u001b[0;34m\u001b[0m\u001b[0m\n\u001b[0m\u001b[1;32m    825\u001b[0m             )\n\u001b[1;32m    826\u001b[0m         \u001b[0;32melif\u001b[0m \u001b[0msolver\u001b[0m \u001b[0;34m==\u001b[0m \u001b[0;34m\"liblinear\"\u001b[0m\u001b[0;34m:\u001b[0m\u001b[0;34m\u001b[0m\u001b[0;34m\u001b[0m\u001b[0m\n",
            "\u001b[0;32m/usr/local/lib/python3.7/dist-packages/sklearn/utils/optimize.py\u001b[0m in \u001b[0;36m_newton_cg\u001b[0;34m(grad_hess, func, grad, x0, args, tol, maxiter, maxinner, line_search, warn)\u001b[0m\n\u001b[1;32m    191\u001b[0m         \u001b[0;31m# Inner loop: solve the Newton update by conjugate gradient, to\u001b[0m\u001b[0;34m\u001b[0m\u001b[0;34m\u001b[0m\u001b[0;34m\u001b[0m\u001b[0m\n\u001b[1;32m    192\u001b[0m         \u001b[0;31m# avoid inverting the Hessian\u001b[0m\u001b[0;34m\u001b[0m\u001b[0;34m\u001b[0m\u001b[0;34m\u001b[0m\u001b[0m\n\u001b[0;32m--> 193\u001b[0;31m         \u001b[0mxsupi\u001b[0m \u001b[0;34m=\u001b[0m \u001b[0m_cg\u001b[0m\u001b[0;34m(\u001b[0m\u001b[0mfhess_p\u001b[0m\u001b[0;34m,\u001b[0m \u001b[0mfgrad\u001b[0m\u001b[0;34m,\u001b[0m \u001b[0mmaxiter\u001b[0m\u001b[0;34m=\u001b[0m\u001b[0mmaxinner\u001b[0m\u001b[0;34m,\u001b[0m \u001b[0mtol\u001b[0m\u001b[0;34m=\u001b[0m\u001b[0mtermcond\u001b[0m\u001b[0;34m)\u001b[0m\u001b[0;34m\u001b[0m\u001b[0;34m\u001b[0m\u001b[0m\n\u001b[0m\u001b[1;32m    194\u001b[0m \u001b[0;34m\u001b[0m\u001b[0m\n\u001b[1;32m    195\u001b[0m         \u001b[0malphak\u001b[0m \u001b[0;34m=\u001b[0m \u001b[0;36m1.0\u001b[0m\u001b[0;34m\u001b[0m\u001b[0;34m\u001b[0m\u001b[0m\n",
            "\u001b[0;32m/usr/local/lib/python3.7/dist-packages/sklearn/utils/optimize.py\u001b[0m in \u001b[0;36m_cg\u001b[0;34m(fhess_p, fgrad, maxiter, tol)\u001b[0m\n\u001b[1;32m     86\u001b[0m             \u001b[0;32mbreak\u001b[0m\u001b[0;34m\u001b[0m\u001b[0;34m\u001b[0m\u001b[0m\n\u001b[1;32m     87\u001b[0m \u001b[0;34m\u001b[0m\u001b[0m\n\u001b[0;32m---> 88\u001b[0;31m         \u001b[0mAp\u001b[0m \u001b[0;34m=\u001b[0m \u001b[0mfhess_p\u001b[0m\u001b[0;34m(\u001b[0m\u001b[0mpsupi\u001b[0m\u001b[0;34m)\u001b[0m\u001b[0;34m\u001b[0m\u001b[0;34m\u001b[0m\u001b[0m\n\u001b[0m\u001b[1;32m     89\u001b[0m         \u001b[0;31m# check curvature\u001b[0m\u001b[0;34m\u001b[0m\u001b[0;34m\u001b[0m\u001b[0;34m\u001b[0m\u001b[0m\n\u001b[1;32m     90\u001b[0m         \u001b[0mcurv\u001b[0m \u001b[0;34m=\u001b[0m \u001b[0mnp\u001b[0m\u001b[0;34m.\u001b[0m\u001b[0mdot\u001b[0m\u001b[0;34m(\u001b[0m\u001b[0mpsupi\u001b[0m\u001b[0;34m,\u001b[0m \u001b[0mAp\u001b[0m\u001b[0;34m)\u001b[0m\u001b[0;34m\u001b[0m\u001b[0;34m\u001b[0m\u001b[0m\n",
            "\u001b[0;32m/usr/local/lib/python3.7/dist-packages/sklearn/linear_model/_logistic.py\u001b[0m in \u001b[0;36mHs\u001b[0;34m(s)\u001b[0m\n\u001b[1;32m    235\u001b[0m             \u001b[0mret\u001b[0m\u001b[0;34m[\u001b[0m\u001b[0;34m:\u001b[0m\u001b[0mn_features\u001b[0m\u001b[0;34m]\u001b[0m \u001b[0;34m=\u001b[0m \u001b[0mX\u001b[0m\u001b[0;34m.\u001b[0m\u001b[0mT\u001b[0m\u001b[0;34m.\u001b[0m\u001b[0mdot\u001b[0m\u001b[0;34m(\u001b[0m\u001b[0mdX\u001b[0m\u001b[0;34m.\u001b[0m\u001b[0mdot\u001b[0m\u001b[0;34m(\u001b[0m\u001b[0ms\u001b[0m\u001b[0;34m[\u001b[0m\u001b[0;34m:\u001b[0m\u001b[0mn_features\u001b[0m\u001b[0;34m]\u001b[0m\u001b[0;34m)\u001b[0m\u001b[0;34m)\u001b[0m\u001b[0;34m\u001b[0m\u001b[0;34m\u001b[0m\u001b[0m\n\u001b[1;32m    236\u001b[0m         \u001b[0;32melse\u001b[0m\u001b[0;34m:\u001b[0m\u001b[0;34m\u001b[0m\u001b[0;34m\u001b[0m\u001b[0m\n\u001b[0;32m--> 237\u001b[0;31m             \u001b[0mret\u001b[0m\u001b[0;34m[\u001b[0m\u001b[0;34m:\u001b[0m\u001b[0mn_features\u001b[0m\u001b[0;34m]\u001b[0m \u001b[0;34m=\u001b[0m \u001b[0mnp\u001b[0m\u001b[0;34m.\u001b[0m\u001b[0mlinalg\u001b[0m\u001b[0;34m.\u001b[0m\u001b[0mmulti_dot\u001b[0m\u001b[0;34m(\u001b[0m\u001b[0;34m[\u001b[0m\u001b[0mX\u001b[0m\u001b[0;34m.\u001b[0m\u001b[0mT\u001b[0m\u001b[0;34m,\u001b[0m \u001b[0mdX\u001b[0m\u001b[0;34m,\u001b[0m \u001b[0ms\u001b[0m\u001b[0;34m[\u001b[0m\u001b[0;34m:\u001b[0m\u001b[0mn_features\u001b[0m\u001b[0;34m]\u001b[0m\u001b[0;34m]\u001b[0m\u001b[0;34m)\u001b[0m\u001b[0;34m\u001b[0m\u001b[0;34m\u001b[0m\u001b[0m\n\u001b[0m\u001b[1;32m    238\u001b[0m         \u001b[0mret\u001b[0m\u001b[0;34m[\u001b[0m\u001b[0;34m:\u001b[0m\u001b[0mn_features\u001b[0m\u001b[0;34m]\u001b[0m \u001b[0;34m+=\u001b[0m \u001b[0malpha\u001b[0m \u001b[0;34m*\u001b[0m \u001b[0ms\u001b[0m\u001b[0;34m[\u001b[0m\u001b[0;34m:\u001b[0m\u001b[0mn_features\u001b[0m\u001b[0;34m]\u001b[0m\u001b[0;34m\u001b[0m\u001b[0;34m\u001b[0m\u001b[0m\n\u001b[1;32m    239\u001b[0m \u001b[0;34m\u001b[0m\u001b[0m\n",
            "\u001b[0;32m<__array_function__ internals>\u001b[0m in \u001b[0;36mmulti_dot\u001b[0;34m(*args, **kwargs)\u001b[0m\n",
            "\u001b[0;32m/usr/local/lib/python3.7/dist-packages/numpy/linalg/linalg.py\u001b[0m in \u001b[0;36mmulti_dot\u001b[0;34m(arrays, out)\u001b[0m\n\u001b[1;32m   2726\u001b[0m     \u001b[0;31m# _multi_dot_three is much faster than _multi_dot_matrix_chain_order\u001b[0m\u001b[0;34m\u001b[0m\u001b[0;34m\u001b[0m\u001b[0;34m\u001b[0m\u001b[0m\n\u001b[1;32m   2727\u001b[0m     \u001b[0;32mif\u001b[0m \u001b[0mn\u001b[0m \u001b[0;34m==\u001b[0m \u001b[0;36m3\u001b[0m\u001b[0;34m:\u001b[0m\u001b[0;34m\u001b[0m\u001b[0;34m\u001b[0m\u001b[0m\n\u001b[0;32m-> 2728\u001b[0;31m         \u001b[0mresult\u001b[0m \u001b[0;34m=\u001b[0m \u001b[0m_multi_dot_three\u001b[0m\u001b[0;34m(\u001b[0m\u001b[0marrays\u001b[0m\u001b[0;34m[\u001b[0m\u001b[0;36m0\u001b[0m\u001b[0;34m]\u001b[0m\u001b[0;34m,\u001b[0m \u001b[0marrays\u001b[0m\u001b[0;34m[\u001b[0m\u001b[0;36m1\u001b[0m\u001b[0;34m]\u001b[0m\u001b[0;34m,\u001b[0m \u001b[0marrays\u001b[0m\u001b[0;34m[\u001b[0m\u001b[0;36m2\u001b[0m\u001b[0;34m]\u001b[0m\u001b[0;34m,\u001b[0m \u001b[0mout\u001b[0m\u001b[0;34m=\u001b[0m\u001b[0mout\u001b[0m\u001b[0;34m)\u001b[0m\u001b[0;34m\u001b[0m\u001b[0;34m\u001b[0m\u001b[0m\n\u001b[0m\u001b[1;32m   2729\u001b[0m     \u001b[0;32melse\u001b[0m\u001b[0;34m:\u001b[0m\u001b[0;34m\u001b[0m\u001b[0;34m\u001b[0m\u001b[0m\n\u001b[1;32m   2730\u001b[0m         \u001b[0morder\u001b[0m \u001b[0;34m=\u001b[0m \u001b[0m_multi_dot_matrix_chain_order\u001b[0m\u001b[0;34m(\u001b[0m\u001b[0marrays\u001b[0m\u001b[0;34m)\u001b[0m\u001b[0;34m\u001b[0m\u001b[0;34m\u001b[0m\u001b[0m\n",
            "\u001b[0;32m/usr/local/lib/python3.7/dist-packages/numpy/linalg/linalg.py\u001b[0m in \u001b[0;36m_multi_dot_three\u001b[0;34m(A, B, C, out)\u001b[0m\n\u001b[1;32m   2758\u001b[0m         \u001b[0;32mreturn\u001b[0m \u001b[0mdot\u001b[0m\u001b[0;34m(\u001b[0m\u001b[0mdot\u001b[0m\u001b[0;34m(\u001b[0m\u001b[0mA\u001b[0m\u001b[0;34m,\u001b[0m \u001b[0mB\u001b[0m\u001b[0;34m)\u001b[0m\u001b[0;34m,\u001b[0m \u001b[0mC\u001b[0m\u001b[0;34m,\u001b[0m \u001b[0mout\u001b[0m\u001b[0;34m=\u001b[0m\u001b[0mout\u001b[0m\u001b[0;34m)\u001b[0m\u001b[0;34m\u001b[0m\u001b[0;34m\u001b[0m\u001b[0m\n\u001b[1;32m   2759\u001b[0m     \u001b[0;32melse\u001b[0m\u001b[0;34m:\u001b[0m\u001b[0;34m\u001b[0m\u001b[0;34m\u001b[0m\u001b[0m\n\u001b[0;32m-> 2760\u001b[0;31m         \u001b[0;32mreturn\u001b[0m \u001b[0mdot\u001b[0m\u001b[0;34m(\u001b[0m\u001b[0mA\u001b[0m\u001b[0;34m,\u001b[0m \u001b[0mdot\u001b[0m\u001b[0;34m(\u001b[0m\u001b[0mB\u001b[0m\u001b[0;34m,\u001b[0m \u001b[0mC\u001b[0m\u001b[0;34m)\u001b[0m\u001b[0;34m,\u001b[0m \u001b[0mout\u001b[0m\u001b[0;34m=\u001b[0m\u001b[0mout\u001b[0m\u001b[0;34m)\u001b[0m\u001b[0;34m\u001b[0m\u001b[0;34m\u001b[0m\u001b[0m\n\u001b[0m\u001b[1;32m   2761\u001b[0m \u001b[0;34m\u001b[0m\u001b[0m\n\u001b[1;32m   2762\u001b[0m \u001b[0;34m\u001b[0m\u001b[0m\n",
            "\u001b[0;32m<__array_function__ internals>\u001b[0m in \u001b[0;36mdot\u001b[0;34m(*args, **kwargs)\u001b[0m\n",
            "\u001b[0;31mKeyboardInterrupt\u001b[0m: "
          ]
        }
      ],
      "source": [
        "clf.fit(X_all, y_all)"
      ]
    },
    {
      "cell_type": "code",
      "execution_count": null,
      "metadata": {
        "id": "ITuEIegEh1Kc"
      },
      "outputs": [],
      "source": [
        "# clf.cv_results_를 사용하여 초기 결과를 볼 수 있다.\n",
        "print(clf.best_params_, clf.best_score_)"
      ]
    },
    {
      "cell_type": "markdown",
      "metadata": {
        "id": "UnAM2qwyh1Kc"
      },
      "source": [
        "정확도 결과를 보십시오. 떨어지는 것을 알아차리셨나요? 왜 이것이 그렇다고 생각합니까?\n",
        "\n",
        "모델을 무작위로 분할하기 때문에 정확도가 다를 수 있습니다. 우리가 할 수 있는 것은 모델 피팅을 여러 번 반복하고 평균적인 정확도 결과를 얻는 것입니다."
      ]
    },
    {
      "cell_type": "markdown",
      "metadata": {
        "id": "1ybFFQFbh1Kc"
      },
      "source": [
        "## 4. 파이프라인 구축\n",
        "이 시점에서 트윗을 예측할 수 있도록 훈련되고 최적화된 모델이 준비되어 있습니다. 이제 이 모든 것을 하나로 묶어 예측을 위한 파이프라인을 구축합니다.\n",
        "\n",
        "이 기능은 다음과 같습니다:\n",
        "1. 트윗을 문자열 형식으로 취한다.\n",
        "2. 해당 트윗이 관련이 있는지 여부에 대한 예측을 출력한다."
      ]
    },
    {
      "cell_type": "code",
      "execution_count": null,
      "metadata": {
        "id": "5VZlIMPPh1Kc"
      },
      "outputs": [],
      "source": [
        "def twitter_predictor(tweet):\n",
        "    # your code here\n",
        "    word_vector = bagofwords(tweet, vocab) # 단어 가방 변수를 설정합니다.bagofwords 함수를 기억하십니까?\n",
        "    word_tfidf = word_vector*idf # tfidf값 찾기\n",
        "    prediction = logreg.predict(word_tfidf.reshape(1, -1)) # 트윗이 자연재해와 관련이 있는지 없는지 예측\n",
        "    results = {1:'Relevant', 0:'Not Relevant'} # 잠재적인 결과를 포함하는 집합을 만듭니다.\"Relevant\" 및 \"Not relevant\" 태그를 변경할 수 있습니다.\n",
        "    print(results[int(prediction)])"
      ]
    },
    {
      "cell_type": "code",
      "execution_count": null,
      "metadata": {
        "id": "gsIZN0llh1Kc"
      },
      "outputs": [],
      "source": [
        "tweet1 = 'When the earthquake happened (Nepal) we were the last intl team still there; in a way we were 1st responders'\n",
        "tweet2 = 'NLP is fun and I learnt so much today.'\n",
        "twitter_predictor(tweet1)\n",
        "twitter_predictor(tweet2)"
      ]
    },
    {
      "cell_type": "markdown",
      "metadata": {
        "id": "QEVRQU-xh1Kc"
      },
      "source": [
        "### 실습: 트윗을 직접 작성하고 모델이 트윗을 분류할 수 있는지 확인해 보십시오!"
      ]
    },
    {
      "cell_type": "code",
      "execution_count": null,
      "metadata": {
        "scrolled": true,
        "id": "buHYjp7rh1Kc"
      },
      "outputs": [],
      "source": [
        "# your code here"
      ]
    },
    {
      "cell_type": "markdown",
      "metadata": {
        "id": "eSBCf3ith1Kc"
      },
      "source": [
        "모델이 올바른 결과를 제공할 수 있습니까? \n",
        "\n",
        "모델 성능을 향상시키기 위해 무엇을 할 수 있다고 생각하십니까?\n",
        "\n",
        "이전에 상위 500 개 토큰 만 사용한다는 것을 기억하십니까? 우리가 더 많은 토큰을 선택하거나 더 적은 토큰을 선택하면 어떻게 될 것이라고 생각하십니까?"
      ]
    },
    {
      "cell_type": "markdown",
      "metadata": {
        "id": "egYmMpf0h1Kd"
      },
      "source": [
        "축하합니다! 이제 자신만의 기계 학습 NLP 모델을 구축했습니다.\n",
        "  \n",
        "# 5. NLP 분류 과제!\n",
        "TFIDF가 자연어 데이터 분류를 하기 위해 정규화된 단어 가방을 사용하는 기본 사항을 배웠으니 이제는 여러분의 기술을 테스트할 때입니다!\n",
        "\n",
        "## 감정 분석\n",
        "자연 텍스트 분류의 중요한 응용은 _감정 분석(sentiment analysis)_에 있습니다. 감정 분석은 특정 주제에 대한 작가의 태도를 확인하기 위해 텍스트 조각에서 의견을 분류하는 과정입니다.\n",
        "  \n",
        "이 도전과제에서는 [imdb](https://www.imdb.com/)의 영화 리뷰를 분류합니다. 데이터는 이미 두 개의 .pkl 파일로 저장되었습니다(현재는 파이썬을 사용하여 읽을 수있는 파일 형식으로 이해하십시오). 하나는 훈련 데이터용이고 하나는 테스트 데이터용 입니다.\n",
        "\n",
        "You will have to process and train your model on the train dataset of movie reviews `df_raw.pkl`, and then report the accuracy of your model on the test move reviews `df_raw_test.pkl`.  \n",
        "영화 리뷰 `df_raw.pkl`의 훈련 데이터 세트에서 모델을 교육한 다음, 영화 리뷰 `df_raw_test.pkl` 테스트 데이터 세트를 이용하여 모델의 정확도를 확인해야 합니다.\n",
        "\n",
        "리뷰가 긍정적인 정서를 가지고 있는지 부정적인 정서를 가지고 있는지 예측하게 될 것입니다. 긍정적인 정서는 1로 분류되고, 부정적인 정서는 0으로 분류됩니다.\n",
        "  \n",
        "이 세그먼트에서는 sklearn에서 제공하는 몇 가지 새로운 기능을 사용합니다.\n",
        "1. 이전에 구축한 함수로 TFIDF를 사용하여 단어 가방을 생성하고 조건을 조정할 수 있습니다. \n",
        "2. 대안적으로, [`CountVectorizer`](https://scikit-learn.org/stable/modules/generated/sklearn.feature_extraction.text.CountVectorizer.html) 기능을 이용하여 단어 가방을 만들 수 있습니다. `max_features=5000` 인수를 사용하여 가장 일반적인 상위 5000개의 단어만 선택하여 사용합니다.\n",
        "3. TFIDF로 단어 가방을 변환하는 데 도움이 되는 [`TfidfTransformer`](https://scikit-learn.org/stable/modules/generated/sklearn.feature_extraction.text.TfidfVectorizer.html#sklearn.feature_extraction.text.TfidfVectorizer) 를 사용할 수도 있습니다.\n",
        "  \n",
        "이 데이터 프레임에 대한 훈련 및 테스트 데이터 세트는 이미 가져왔습니다. 이전에 배운 기술과 모듈 24에서 배운 기술을 사용하여, 데이터 전처리, 벡터화(단어 가방), 변화(TFIDF 사용), 적합성 등을 적용하여 영화 리뷰의 감정을 예측해야 합니다."
      ]
    },
    {
      "cell_type": "code",
      "execution_count": null,
      "metadata": {
        "id": "AVMIPwpNh1Kd"
      },
      "outputs": [],
      "source": [
        "import pandas as pd\n",
        "import numpy as np\n",
        "import nltk\n",
        "import re\n",
        "from sklearn.feature_extraction.text import CountVectorizer # 이 기능은 단어 가방을 만들 수 있도록 도와줍니다.\n",
        "from sklearn.feature_extraction.text import TfidfTransformer # 이 기능은 단어 가방을 자동으로 정규화합니다.\n",
        "df_raw = pd.read_pickle('/content/drive/MyDrive/Colab Notebooks/DataSet/module25/[Dataset]_Module25_df_raw.pkl')\n",
        "df_raw_test = pd.read_pickle('/content/drive/MyDrive/Colab Notebooks/DataSet/module25/[Dataset]_Module25_df_raw_test.pkl')\n",
        "\n",
        "\n",
        "## 7번째 줄과 8번째 줄에 오류가 있는 경우, \"imdb\" 폴더에서 파일을 복사하여 노트북과 같은 위치에 붙여 넣으십시오."
      ]
    },
    {
      "cell_type": "markdown",
      "metadata": {
        "id": "LElRndDhh1Kd"
      },
      "source": [
        "시작하려면 테스트 데이터 세트의 샘플을 출력해 보십시오. 열의 이름은 무엇입니까?"
      ]
    },
    {
      "cell_type": "code",
      "execution_count": null,
      "metadata": {
        "id": "Dt4oWeVxh1Kd"
      },
      "outputs": [],
      "source": [
        "# your code here\n",
        "df_raw_test"
      ]
    },
    {
      "cell_type": "markdown",
      "metadata": {
        "id": "JNbajuynh1Kd"
      },
      "source": [
        "Now, process your text using the `CountVectorizer` to create your bag of words. \n",
        "이제 `CountVectorizer`를 사용하여 텍스트를 처리하여 단어 가방을 만듭니다. `CountVectorizer()`클래스를 만들고 텍스트와 함께 `.fit_transform()` 메서드를 사용하여 단어 모음을 만들 수 있습니다."
      ]
    },
    {
      "cell_type": "code",
      "execution_count": null,
      "metadata": {
        "id": "3R0DnSIJh1Kd"
      },
      "outputs": [],
      "source": [
        "vectorizer = CountVectorizer(analyzer = \"word\", strip_accents=None, tokenizer = None, \\\n",
        "                             preprocessor = None, stop_words = None, max_features = 5000) \n",
        "train_data_features = vectorizer.fit_transform(df_raw['text'])\n",
        "test_data_features = vectorizer.transform(df_raw_test['text'])"
      ]
    },
    {
      "cell_type": "markdown",
      "metadata": {
        "id": "44C-G6Gwh1Kd"
      },
      "source": [
        "이제 `TfidfTransformer`를 사용하여 단어 가방을 정규화합니다. 사용 방법은 동일합니다.클래스를 만들고 단어 가방과 함께 `.fit_transform()` 메서드를 인수로 사용하여 TFIDF를 만듭니다."
      ]
    },
    {
      "cell_type": "code",
      "execution_count": null,
      "metadata": {
        "id": "efNMM3ush1Kd"
      },
      "outputs": [],
      "source": [
        "tfidfier = TfidfTransformer()\n",
        "tfidf = tfidfier.fit_transform(train_data_features)\n",
        "tfidf_test = tfidfier.transform(test_data_features)"
      ]
    },
    {
      "cell_type": "markdown",
      "metadata": {
        "id": "9PtEL6Vch1Kd"
      },
      "source": [
        "이제 변환된 단어 가방을 사용하여 이전과 같이 모델을 훈련하고 테스트합니다."
      ]
    },
    {
      "cell_type": "code",
      "execution_count": null,
      "metadata": {
        "id": "NuOfZNyAh1Kd"
      },
      "outputs": [],
      "source": [
        "X_all = tfidf.toarray()\n",
        "y_all = df_raw['positive'].values\n",
        "X_test = tfidf_test.toarray()\n",
        "y_test = df_raw_test['positive'].values\n",
        "def classify():\n",
        "    rf = LogisticRegression()\n",
        "    rf.fit(X_all,y_all)\n",
        "    print(rf.score(X_test,y_test))\n",
        "    return rf\n",
        "classify()"
      ]
    },
    {
      "cell_type": "markdown",
      "metadata": {
        "id": "8_-SpA9-h1Ke"
      },
      "source": [
        "하이퍼파라미터를 조정하지 않고도 80% 이상의 정확도를 가지고 있어야 합니다. 가능한 테스트 세트에서 최상의 정확도를 얻으십시오. 이 데이터 세트는 자연어 처리의 특징 중 하나이며 많은 데이터 과학자와 엔지니어들의 진입점이다. 다른 사람들이 개발한 더 많은 [솔류션](https://www.kaggle.com/c/word2vec-nlp-tutorial) 을 볼 수 있습니다!\n",
        "\n",
        "## 다음으로는 자신의 리뷰를 입력하는 함수를 만들어 자신의 문장이 긍정적인지 부정적인지를 예측하는 모델을 만들 수 있습니다!\n",
        "\n",
        "# 축하합니다!\n",
        "자연 언어 텍스트 분류기를 만드는 방법을 배웠습니다!"
      ]
    }
  ],
  "metadata": {
    "kernelspec": {
      "display_name": "Python 3 (ipykernel)",
      "language": "python",
      "name": "python3"
    },
    "language_info": {
      "codemirror_mode": {
        "name": "ipython",
        "version": 3
      },
      "file_extension": ".py",
      "mimetype": "text/x-python",
      "name": "python",
      "nbconvert_exporter": "python",
      "pygments_lexer": "ipython3",
      "version": "3.9.6"
    },
    "colab": {
      "provenance": [],
      "include_colab_link": true
    }
  },
  "nbformat": 4,
  "nbformat_minor": 0
}